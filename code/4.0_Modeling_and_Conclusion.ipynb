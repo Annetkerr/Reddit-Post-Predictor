{
 "cells": [
  {
   "cell_type": "markdown",
   "metadata": {},
   "source": [
    "<a id=\"section__top\"></a>\n",
    "\n",
    "# Project  3 - Subreddit Classifier\n",
    "## Modeling and Conclusion\n",
    "General Assembly DSI CC7 Project 3\n",
    "<br>Anne Kerr - SF<br>\n",
    "Due April 5, 2019\n",
    "\n",
    "\n",
    "This notebook contains the following sections:\n",
    "\n",
    "-  [Loading and Preparing the Data](#section__Load_and_Prep)\n",
    "-  [Model Search](#section__Model_Search)\n",
    "-  [Final Model Tuning](#section__Model_Tuning)\n",
    "-  [Predictions and Evaluation](#section__Predictions)\n",
    "-  [Conclusion](#section__Conclusion)\n"
   ]
  },
  {
   "cell_type": "code",
   "execution_count": 1,
   "metadata": {},
   "outputs": [],
   "source": [
    "from sklearn.pipeline import Pipeline\n",
    "#Importing NumPy and Pandas.\n",
    "import numpy as np\n",
    "import pandas as pd\n",
    "import pickle\n",
    "\n",
    "import sklearn.metrics as metrics\n",
    "import sklearn.linear_model as linear_model\n",
    "from sklearn.linear_model import LinearRegression\n",
    "from sklearn.model_selection import train_test_split, KFold, cross_val_score\n",
    "from sklearn.preprocessing import PolynomialFeatures, StandardScaler   #transformers\n",
    "\n",
    "from sklearn.metrics import r2_score\n",
    "\n",
    "import matplotlib.pyplot as plt\n",
    "\n",
    "import seaborn as sns\n",
    "import scipy.stats as stats\n",
    "\n",
    "# Import Tokenizer\n",
    "from nltk.tokenize import RegexpTokenizer\n",
    "from sklearn.feature_extraction.text import CountVectorizer, TfidfVectorizer\n",
    "from sklearn.pipeline import Pipeline\n",
    "from sklearn.model_selection import train_test_split, GridSearchCV\n",
    "from sklearn.linear_model import LogisticRegression\n",
    "from sklearn.naive_bayes import MultinomialNB\n",
    "from sklearn.neighbors import KNeighborsClassifier\n",
    "from sklearn.metrics import confusion_matrix\n",
    "\n",
    "import nltk\n",
    "from nltk.stem import WordNetLemmatizer\n",
    "from nltk.corpus import stopwords\n",
    "from pactools.grid_search import GridSearchCVProgressBar\n",
    "import warnings\n",
    "warnings.simplefilter('ignore')\n",
    "\n",
    "%matplotlib inline"
   ]
  },
  {
   "cell_type": "code",
   "execution_count": 2,
   "metadata": {},
   "outputs": [],
   "source": [
    "from wordcloud import WordCloud, STOPWORDS \n",
    "import warnings\n",
    "warnings.simplefilter('ignore')\n",
    "\n",
    "%matplotlib inline"
   ]
  },
  {
   "cell_type": "markdown",
   "metadata": {},
   "source": [
    "<a id=\"section__Load_and_Prep\"></a>\n",
    "\n",
    "\n",
    "#### Read and Pre-process the Data\n",
    "We begin by reading the cleaned final dataset into a single dataframe. \n",
    "\n",
    "  \n",
    "Note: We already deleted duplicates and have no missing values for the selftext (from which we will derive the features for our model) or the subreddit name, our target.\n",
    "\n",
    "[back to top](#section__top)"
   ]
  },
  {
   "cell_type": "code",
   "execution_count": 3,
   "metadata": {},
   "outputs": [
    {
     "data": {
      "text/html": [
       "<div>\n",
       "<style scoped>\n",
       "    .dataframe tbody tr th:only-of-type {\n",
       "        vertical-align: middle;\n",
       "    }\n",
       "\n",
       "    .dataframe tbody tr th {\n",
       "        vertical-align: top;\n",
       "    }\n",
       "\n",
       "    .dataframe thead th {\n",
       "        text-align: right;\n",
       "    }\n",
       "</style>\n",
       "<table border=\"1\" class=\"dataframe\">\n",
       "  <thead>\n",
       "    <tr style=\"text-align: right;\">\n",
       "      <th></th>\n",
       "      <th>subreddit</th>\n",
       "      <th>id</th>\n",
       "      <th>cleaned</th>\n",
       "      <th>author</th>\n",
       "      <th>created</th>\n",
       "      <th>ups</th>\n",
       "      <th>downs</th>\n",
       "    </tr>\n",
       "  </thead>\n",
       "  <tbody>\n",
       "    <tr>\n",
       "      <th>0</th>\n",
       "      <td>travel</td>\n",
       "      <td>b6i1po</td>\n",
       "      <td>hey travellers in this weekly community discus...</td>\n",
       "      <td>AutoModerator</td>\n",
       "      <td>1.553775e+09</td>\n",
       "      <td>10</td>\n",
       "      <td>0</td>\n",
       "    </tr>\n",
       "    <tr>\n",
       "      <th>1</th>\n",
       "      <td>travel</td>\n",
       "      <td>b7owfp</td>\n",
       "      <td>hi reddit my friends and i will be going on ou...</td>\n",
       "      <td>elysxan</td>\n",
       "      <td>1.554046e+09</td>\n",
       "      <td>5</td>\n",
       "      <td>0</td>\n",
       "    </tr>\n",
       "    <tr>\n",
       "      <th>2</th>\n",
       "      <td>travel</td>\n",
       "      <td>b7ou42</td>\n",
       "      <td>had a free weekend looking for a day of hiking...</td>\n",
       "      <td>logflumepirate</td>\n",
       "      <td>1.554046e+09</td>\n",
       "      <td>4</td>\n",
       "      <td>0</td>\n",
       "    </tr>\n",
       "    <tr>\n",
       "      <th>3</th>\n",
       "      <td>travel</td>\n",
       "      <td>b7q4dz</td>\n",
       "      <td>hi all a friend and i are heading to nepal fro...</td>\n",
       "      <td>jyeatbvg</td>\n",
       "      <td>1.554053e+09</td>\n",
       "      <td>2</td>\n",
       "      <td>0</td>\n",
       "    </tr>\n",
       "    <tr>\n",
       "      <th>4</th>\n",
       "      <td>travel</td>\n",
       "      <td>b7pzbp</td>\n",
       "      <td>does anyone have any tips on ride sharing from...</td>\n",
       "      <td>ruffianrevolution</td>\n",
       "      <td>1.554052e+09</td>\n",
       "      <td>2</td>\n",
       "      <td>0</td>\n",
       "    </tr>\n",
       "  </tbody>\n",
       "</table>\n",
       "</div>"
      ],
      "text/plain": [
       "  subreddit      id                                            cleaned  \\\n",
       "0    travel  b6i1po  hey travellers in this weekly community discus...   \n",
       "1    travel  b7owfp  hi reddit my friends and i will be going on ou...   \n",
       "2    travel  b7ou42  had a free weekend looking for a day of hiking...   \n",
       "3    travel  b7q4dz  hi all a friend and i are heading to nepal fro...   \n",
       "4    travel  b7pzbp  does anyone have any tips on ride sharing from...   \n",
       "\n",
       "              author       created  ups  downs  \n",
       "0      AutoModerator  1.553775e+09   10      0  \n",
       "1            elysxan  1.554046e+09    5      0  \n",
       "2     logflumepirate  1.554046e+09    4      0  \n",
       "3           jyeatbvg  1.554053e+09    2      0  \n",
       "4  ruffianrevolution  1.554052e+09    2      0  "
      ]
     },
     "execution_count": 3,
     "metadata": {},
     "output_type": "execute_result"
    }
   ],
   "source": [
    "df = pd.read_csv('../data/cleaned_posts_all.csv')\n",
    "\n",
    "df.head()"
   ]
  },
  {
   "cell_type": "markdown",
   "metadata": {},
   "source": [
    "###### Define the target class\n",
    "Due to eliminating duplicates and posts with no actual text we were left with fewer than hoped for in each class. If we make travel the positive class, and all others the negative class. We will have a more balanced dataset. "
   ]
  },
  {
   "cell_type": "code",
   "execution_count": 4,
   "metadata": {},
   "outputs": [],
   "source": [
    "df['target'] = df['subreddit'].map(lambda x: 1 if x == 'travel' else 0)\n",
    "\n",
    "y = df['target']"
   ]
  },
  {
   "cell_type": "markdown",
   "metadata": {},
   "source": [
    "We can see below that the dataset isn't perfectly balanced, but it isn't bad. Hopefully there will be enough data to create and test some good models."
   ]
  },
  {
   "cell_type": "code",
   "execution_count": 5,
   "metadata": {},
   "outputs": [
    {
     "data": {
      "text/plain": [
       "0    1039\n",
       "1     808\n",
       "Name: target, dtype: int64"
      ]
     },
     "execution_count": 5,
     "metadata": {},
     "output_type": "execute_result"
    }
   ],
   "source": [
    "y.value_counts()"
   ]
  },
  {
   "cell_type": "code",
   "execution_count": 6,
   "metadata": {},
   "outputs": [
    {
     "data": {
      "text/plain": [
       "Text(0.5, 1.0, 'Travel vs (Fitness, Wine, and Gardening)')"
      ]
     },
     "execution_count": 6,
     "metadata": {},
     "output_type": "execute_result"
    },
    {
     "data": {
      "image/png": "[encoded data removed]",
      "text/plain": [
       "<Figure size 432x432 with 1 Axes>"
      ]
     },
     "metadata": {
      "needs_background": "light"
     },
     "output_type": "display_data"
    }
   ],
   "source": [
    "plt.figure(figsize=(6,6))\n",
    "df['target'].value_counts().plot(kind='bar', color=['gray'])\n",
    "\n",
    "plt.title('Travel vs (Fitness, Wine, and Gardening)', fontsize=20)"
   ]
  },
  {
   "cell_type": "markdown",
   "metadata": {},
   "source": [
    "###### Baseline Accuracy\n",
    "By simply predicting the majority class accuracy would be 56.3%"
   ]
  },
  {
   "cell_type": "code",
   "execution_count": 7,
   "metadata": {},
   "outputs": [
    {
     "data": {
      "text/plain": [
       "0    0.562534\n",
       "1    0.437466\n",
       "Name: target, dtype: float64"
      ]
     },
     "execution_count": 7,
     "metadata": {},
     "output_type": "execute_result"
    }
   ],
   "source": [
    "y.value_counts(normalize=True)"
   ]
  },
  {
   "cell_type": "markdown",
   "metadata": {},
   "source": [
    "###### Model Prep\n",
    "Next we set set up X and perform train_test_split so we have a dataset for training the models and one on which to test. We use random_state=42 as a seed to ensure the results can be reproduce. We stratify on y to ensure that we have a balance of our targt varable in both the training and the test data. This is particularly important if the data is unbalanced with respect to y, but in general a good idea.\n"
   ]
  },
  {
   "cell_type": "code",
   "execution_count": 8,
   "metadata": {},
   "outputs": [],
   "source": [
    "X = df['cleaned']\n",
    "\n",
    "X_train, X_test, y_train, y_test = train_test_split(X, y,\n",
    "                                                   random_state=42,\n",
    "                                                   stratify=y) "
   ]
  },
  {
   "cell_type": "code",
   "execution_count": 9,
   "metadata": {},
   "outputs": [
    {
     "name": "stdout",
     "output_type": "stream",
     "text": [
      "Total posts: 1847, Training data: 1385, Test data: 462\n"
     ]
    }
   ],
   "source": [
    "print(f'Total posts: {df.shape[0]}, Training data: {X_train.shape[0]}, Test data: {X_test.shape[0]}')"
   ]
  },
  {
   "cell_type": "markdown",
   "metadata": {},
   "source": [
    "<a id='section__Model_Search'></a>\n",
    "\n",
    "#### Model Approach\n",
    "\n",
    "For this project we will construct several pipelines use GridSearchCV to test various models and parameter combinations, searching for the best predictive model.\n",
    "\n",
    "I chose five different combinations. Each was constructed with a pipeline that consisted of a tokenizer (either CountVectorizer or Tfidif) and an estimator. I tried Logistic Regression Naive Bayes, KNN, Random Forest, and AdaBoost. The table below summarizes the reslts. The params columns listed the different best parameters as selected by the GridSearchCV. \n",
    "\n",
    "The best scores were models that chose 1500 as max features. I assume that if I let it select even more features the scores would get even better, but while these models may be good for Kaggle competitions, they do not seem particularly useful for predicting whether or not new posts are in the r/travel thread. For this reason I decided to look for the model that seemed to perform the best on smaller feature sets. \n",
    "\n",
    "From this information it looks like the best option is Naive Bayes with Tfidf, and the second best is LogisticRegression with CountVectorizer. I did not try Tfidif with Logistic Regression, or CountVectorizer with Naive Bayes. I will try these variations before deciding on a final model.\n",
    "\n",
    "*Note:* The model search performance is listed in two tables here. The first is simplified for the presentation, the second was useful to keep track of the parameter options that were chosen as best in each of the different models. I included only the differences.\n",
    "\n",
    "The pipelines and gridsearch for each combo appear after the tables.\n",
    "\n",
    "[back to top](#section__top)"
   ]
  },
  {
   "cell_type": "markdown",
   "metadata": {},
   "source": [
    "|attempt                            |train score|test score|difference|\n",
    "|-----------------------------------|------------|---------|----------|\n",
    "|CountVectorizer/Logistic Regression|.889       |.870      |.019      |\n",
    "|                                   |.896       |.885      |.011      |\n",
    "|Tfidif/Naive Bayes                 |.974       |.967      |.007      |   \n",
    "|                                   |.870       |.865      |.005      |\n",
    "|Tfidif/KNN                         |.836       |.807      |.029      |        \n",
    "|Tfidif/Random Forest               |.984       |.883      |.101      |\n",
    "|                                   |.957       |.831      |.126      |\n",
    "|Tfidif/AdaBoost                    |.981       |.883      |.098      |\n",
    "\n",
    "\n"
   ]
  },
  {
   "cell_type": "markdown",
   "metadata": {},
   "source": [
    "<a id=\"section__scores_grid\"></a>\n",
    "\n",
    "| Model  |  Params  |  Training/Test Scores    |\n",
    "| ------ | -------- | ----------------| ---------------|\n",
    "|[Logistic Regression with CountVectorizer](#section__lr) | 'cvec__max_features': 1500, 'cvec__min_df': 5  |Train Score GS1A: 0.9992779783393502|\n",
    "|  |     |Test Score GS1A: 0.9588744588744589|\n",
    "|  |     |-----------------------------------|\n",
    "|  | 'cvec__max_features': 50, 'cvec__min_df': 2 |Train Score GS1B: 0.8967509025270758\n",
    "|  |  |Test Score GS1B: 0.8852813852813853|\n",
    "|  |     |-----------------------------------|\n",
    "|[Naive Bayes with Tfidf](#section__nbayes) |'tfidf__max_df': 0.9, 'tfidf__max_features': 1500, |Train Score GS2A: 0.9740072202166065|\n",
    "|  |  |Test Score GS2A: 0.9675324675324676|\n",
    "|  |     |-----------------------------------|\n",
    "|  |'tfidf__max_df': 0.75, 'tfidf__max_features': 50|Train Score GS2B: 0.8700361010830325|\n",
    "|  |  |Test Score BS2B: 0.8658008658008658|\n",
    "|  |     |-----------------------------------|\n",
    "|[KNN with Tfidf](#section__knn)  |'tfidf__max_df': 0.75, 'tfidf__max_features': 50, 'tfidf__min_df': 3|Train Score GS3A: 0.836101083032491|\n",
    "|  |  |Test Score GS3A: 0.8073593073593074|\n",
    "|  |     |-----------------------------------|\n",
    "|  |(Same)|Train Score GS3B: 0.836101083032491|\n",
    "|  |  |Test Score GS3B: 0.8073593073593074|\n",
    "|  |     |-----------------------------------|\n",
    "|[Random Forestm with Tfidf](#section__random_forest)   | 'rf__max_depth': None, 'rf__max_features': 'auto', 'rf__n_estimators': 50, 'tfidf__max_df': 0.75, 'tfidf__max_features': 50, 'tfidf__min_df': 2 |Train Score GS4A: 0.9848375451263538|\n",
    "|  |  |Test Score GS4A: 0.8831168831168831|\n",
    "|  |     |-----------------------------------|\n",
    "|  |'rf__max_depth': 5, 'rf__max_features': 50, 'rf__n_estimators': 10, 'tfidf__max_df': 0.75, 'tfidf__max_features': 50, 'tfidf__min_df': 3  |Train Score GS4B: 0.8570397111913357|\n",
    "|  |  |Test Score GS4B: 0.8311688311688312|\n",
    "|  |     |-----------------------------------|\n",
    "|[ADA with Tfidif](#section__ada)  | 'tfidf__max_df': 0.75, 'tfidf__max_features': 50, 'tfidf__min_df': 3 |Train Score GS5A: 0.9010830324909748|\n",
    "|  |  |Test Score GS5A: 0.8831168831168831|\n",
    "|  |     |-----------------------------------|\n",
    "|  | (same) |Train Score GS5B: 0.9010830324909748\n",
    "|  |  |Test Score GS5B: 0.8831168831168831|\n",
    "|  |     |-----------------------------------|\n",
    "\n",
    "\n",
    "\n"
   ]
  },
  {
   "cell_type": "markdown",
   "metadata": {},
   "source": [
    "<a id=\"section__lr\"></a>\n",
    "#### Logistic Regression with CountVectorizer\n",
    "\n",
    "[back](#section__scores_grid)"
   ]
  },
  {
   "cell_type": "code",
   "execution_count": 10,
   "metadata": {},
   "outputs": [],
   "source": [
    "#Logistic regression with count vectorizer\n",
    "pipe = Pipeline([\n",
    "    ('cvec', CountVectorizer()),   #count vectorizor\n",
    "    ('lr', LogisticRegression())     #model \n",
    "])"
   ]
  },
  {
   "cell_type": "code",
   "execution_count": 11,
   "metadata": {},
   "outputs": [
    {
     "name": "stdout",
     "output_type": "stream",
     "text": [
      "gs.best.score_: 0.9494584837545126\n",
      "gs.best.params_: {'cvec__max_df': 0.75, 'cvec__max_features': 1500, 'cvec__min_df': 5, 'cvec__stop_words': 'english', 'lr__random_state': 42}\n"
     ]
    },
    {
     "data": {
      "text/plain": [
       "Pipeline(memory=None,\n",
       "     steps=[('cvec', CountVectorizer(analyzer='word', binary=False, decode_error='strict',\n",
       "        dtype=<class 'numpy.int64'>, encoding='utf-8', input='content',\n",
       "        lowercase=True, max_df=0.75, max_features=1500, min_df=5,\n",
       "        ngram_range=(1, 1), preprocessor=None, stop_words='english',\n",
       "       ..., penalty='l2', random_state=42, solver='warn',\n",
       "          tol=0.0001, verbose=0, warm_start=False))])"
      ]
     },
     "execution_count": 11,
     "metadata": {},
     "output_type": "execute_result"
    }
   ],
   "source": [
    "params = {\n",
    "    'cvec__stop_words': [None, 'english'],\n",
    "    'cvec__max_features': [50, 100, 500, 1000, 1500],      #iterate over these options to see what is best\n",
    "    'cvec__min_df': [2,3,5],\n",
    "    'cvec__max_df': [.75, .8, .9, .95],\n",
    "    'lr__random_state': [42]\n",
    "    ##### note you could add 'cvec_tokenizer' : [None, custom_tokenizer]\n",
    "}\n",
    "gs = GridSearchCV(pipe, param_grid=params, cv=3)\n",
    "gs.fit(X_train, y_train) # Also does cv in the background\n",
    "print(f'gs.best.score_: {gs.best_score_}') # cross_val_score\n",
    "print(f'gs.best.params_: {gs.best_params_}')\n",
    "gs.best_estimator_"
   ]
  },
  {
   "cell_type": "code",
   "execution_count": 12,
   "metadata": {},
   "outputs": [
    {
     "name": "stdout",
     "output_type": "stream",
     "text": [
      "Train Score GS1A: 0.9992779783393502\n",
      "Test Score GS1A: 0.9588744588744589\n"
     ]
    }
   ],
   "source": [
    "print(f'Train Score GS1A: {gs.score(X_train,y_train)}')\n",
    "print(f'Test Score GS1A: {gs.score(X_test,y_test)}')"
   ]
  },
  {
   "cell_type": "code",
   "execution_count": 13,
   "metadata": {},
   "outputs": [
    {
     "name": "stdout",
     "output_type": "stream",
     "text": [
      "gs.best.score_: 0.8801444043321299\n",
      "gs.best.params_: {'cvec__max_df': 0.75, 'cvec__max_features': 50, 'cvec__min_df': 2, 'cvec__stop_words': 'english', 'lr__random_state': 42}\n"
     ]
    },
    {
     "data": {
      "text/plain": [
       "Pipeline(memory=None,\n",
       "     steps=[('cvec', CountVectorizer(analyzer='word', binary=False, decode_error='strict',\n",
       "        dtype=<class 'numpy.int64'>, encoding='utf-8', input='content',\n",
       "        lowercase=True, max_df=0.75, max_features=50, min_df=2,\n",
       "        ngram_range=(1, 1), preprocessor=None, stop_words='english',\n",
       "        s..., penalty='l2', random_state=42, solver='warn',\n",
       "          tol=0.0001, verbose=0, warm_start=False))])"
      ]
     },
     "execution_count": 13,
     "metadata": {},
     "output_type": "execute_result"
    }
   ],
   "source": [
    "params = {\n",
    "    'cvec__stop_words': [None, 'english'],\n",
    "    'cvec__max_features': [10, 25, 50],      #iterate over these options to see what is best\n",
    "    'cvec__min_df': [2,3,5],\n",
    "    'cvec__max_df': [.75, .8, .9, .95],\n",
    "    'lr__random_state': [42]\n",
    "}\n",
    "\n",
    "gs = GridSearchCV(pipe, param_grid=params, cv=3)\n",
    "gs.fit(X_train, y_train) # Also does cv in the background\n",
    "\n",
    "print(f'gs.best.score_: {gs.best_score_}') # cross_val_score\n",
    "print(f'gs.best.params_: {gs.best_params_}')\n",
    "gs.best_estimator_"
   ]
  },
  {
   "cell_type": "code",
   "execution_count": 14,
   "metadata": {},
   "outputs": [
    {
     "name": "stdout",
     "output_type": "stream",
     "text": [
      "Train Score GS1B: 0.8967509025270758\n",
      "Test Score GS1B: 0.8852813852813853\n"
     ]
    }
   ],
   "source": [
    "print(f'Train Score GS1B: {gs.score(X_train,y_train)}')\n",
    "print(f'Test Score GS1B: {gs.score(X_test,y_test)}')"
   ]
  },
  {
   "cell_type": "markdown",
   "metadata": {},
   "source": [
    "<a id=\"section__nbayes\"></a>\n",
    "#### Naive Bayes with Tfidf\n",
    "[back](#section__scores_grid)"
   ]
  },
  {
   "cell_type": "code",
   "execution_count": 15,
   "metadata": {},
   "outputs": [],
   "source": [
    "#Naive Bayes with Tfidf\n",
    "pipe2 = Pipeline([\n",
    "    ('tfidf', TfidfVectorizer()),   #Tfidf vectorizor  \n",
    "    ('mnb', MultinomialNB())        #model \n",
    "])"
   ]
  },
  {
   "cell_type": "code",
   "execution_count": 16,
   "metadata": {},
   "outputs": [
    {
     "name": "stdout",
     "output_type": "stream",
     "text": [
      "gs2.best.score_: 0.9566787003610109\n",
      "gs2.best.params_: {'tfidf__max_df': 0.9, 'tfidf__max_features': 1500, 'tfidf__min_df': 3, 'tfidf__stop_words': 'english'}\n"
     ]
    },
    {
     "data": {
      "text/plain": [
       "Pipeline(memory=None,\n",
       "     steps=[('tfidf', TfidfVectorizer(analyzer='word', binary=False, decode_error='strict',\n",
       "        dtype=<class 'numpy.float64'>, encoding='utf-8', input='content',\n",
       "        lowercase=True, max_df=0.9, max_features=1500, min_df=3,\n",
       "        ngram_range=(1, 1), norm='l2', preprocessor=None, smooth_idf=True,...rue,\n",
       "        vocabulary=None)), ('mnb', MultinomialNB(alpha=1.0, class_prior=None, fit_prior=True))])"
      ]
     },
     "execution_count": 16,
     "metadata": {},
     "output_type": "execute_result"
    }
   ],
   "source": [
    "params2 = {\n",
    "        'tfidf__stop_words': [None, 'english'],\n",
    "        'tfidf__max_features': [1000, 1500],      #iterate over these options to see what is best\n",
    "        'tfidf__min_df': [2,3],\n",
    "        'tfidf__max_df': [.9, .95]\n",
    "}\n",
    "\n",
    "gs2 = GridSearchCV(pipe2, param_grid=params2, cv=3)\n",
    "gs2.fit(X_train, y_train) # Also does cv in the background\n",
    "\n",
    "print(f'gs2.best.score_: {gs2.best_score_}') # cross_val_score\n",
    "print(f'gs2.best.params_: {gs2.best_params_}')\n",
    "gs2.best_estimator_"
   ]
  },
  {
   "cell_type": "code",
   "execution_count": 17,
   "metadata": {},
   "outputs": [
    {
     "name": "stdout",
     "output_type": "stream",
     "text": [
      "Train Score GS2A: 0.9740072202166065\n",
      "Test Score GS2A: 0.9675324675324676\n"
     ]
    }
   ],
   "source": [
    "print(f'Train Score GS2A: {gs2.score(X_train,y_train)}')\n",
    "print(f'Test Score GS2A: {gs2.score(X_test,y_test)}')"
   ]
  },
  {
   "cell_type": "code",
   "execution_count": 18,
   "metadata": {},
   "outputs": [
    {
     "name": "stdout",
     "output_type": "stream",
     "text": [
      "gs2.best.score_: 0.8584837545126354\n",
      "gs2.best.params_: {'tfidf__max_df': 0.75, 'tfidf__max_features': 50, 'tfidf__min_df': 3, 'tfidf__stop_words': 'english'}\n"
     ]
    },
    {
     "data": {
      "text/plain": [
       "Pipeline(memory=None,\n",
       "     steps=[('tfidf', TfidfVectorizer(analyzer='word', binary=False, decode_error='strict',\n",
       "        dtype=<class 'numpy.float64'>, encoding='utf-8', input='content',\n",
       "        lowercase=True, max_df=0.75, max_features=50, min_df=3,\n",
       "        ngram_range=(1, 1), norm='l2', preprocessor=None, smooth_idf=True,\n",
       "...rue,\n",
       "        vocabulary=None)), ('mnb', MultinomialNB(alpha=1.0, class_prior=None, fit_prior=True))])"
      ]
     },
     "execution_count": 18,
     "metadata": {},
     "output_type": "execute_result"
    }
   ],
   "source": [
    "params2 = {\n",
    "        'tfidf__stop_words': [None, 'english'],\n",
    "        'tfidf__max_features': [10, 25, 50],      #iterate over these options to see what is best\n",
    "        'tfidf__min_df': [2, 3, 5],\n",
    "        'tfidf__max_df': [.75, .8, .9, .95]\n",
    "}\n",
    "gs2 = GridSearchCV(pipe2, param_grid=params2, cv=3)\n",
    "gs2.fit(X_train, y_train) # Also does cv in the background\n",
    "print(f'gs2.best.score_: {gs2.best_score_}') # cross_val_score\n",
    "print(f'gs2.best.params_: {gs2.best_params_}')\n",
    "gs2.best_estimator_"
   ]
  },
  {
   "cell_type": "code",
   "execution_count": 19,
   "metadata": {},
   "outputs": [
    {
     "name": "stdout",
     "output_type": "stream",
     "text": [
      "Train Score GS2b: 0.8700361010830325\n",
      "Test Score BS2b: 0.8658008658008658\n"
     ]
    }
   ],
   "source": [
    "print(f'Train Score GS2b: {gs2.score(X_train,y_train)}')\n",
    "print(f'Test Score BS2b: {gs2.score(X_test,y_test)}')"
   ]
  },
  {
   "cell_type": "markdown",
   "metadata": {},
   "source": [
    "<a id=\"section__knn\"></a>\n",
    "#### KNN with Tfidf\n",
    "[back](#section__scores_grid)"
   ]
  },
  {
   "cell_type": "code",
   "execution_count": 20,
   "metadata": {},
   "outputs": [],
   "source": [
    "#KNN with Tfidf\n",
    "pipe3 = Pipeline([\n",
    "    ('tfidf', TfidfVectorizer()),   #Tfidf vectorizor  \n",
    "    ('knn', KNeighborsClassifier(n_neighbors=20))        #model \n",
    "])"
   ]
  },
  {
   "cell_type": "code",
   "execution_count": 21,
   "metadata": {},
   "outputs": [
    {
     "data": {
      "text/plain": [
       "GridSearchCV(cv=3, error_score='raise-deprecating',\n",
       "       estimator=Pipeline(memory=None,\n",
       "     steps=[('tfidf', TfidfVectorizer(analyzer='word', binary=False, decode_error='strict',\n",
       "        dtype=<class 'numpy.float64'>, encoding='utf-8', input='content',\n",
       "        lowercase=True, max_df=1.0, max_features=None, min_df=1,\n",
       "        ngram_range=(1, 1), norm='l2', preprocessor=None, smooth_idf=True,...i',\n",
       "           metric_params=None, n_jobs=None, n_neighbors=20, p=2,\n",
       "           weights='uniform'))]),\n",
       "       fit_params=None, iid='warn', n_jobs=None,\n",
       "       param_grid={'tfidf__stop_words': [None, 'english'], 'tfidf__max_features': [10, 25, 50], 'tfidf__min_df': [2, 3, 5], 'tfidf__max_df': [0.75, 0.8, 0.9, 0.95]},\n",
       "       pre_dispatch='2*n_jobs', refit=True, return_train_score='warn',\n",
       "       scoring=None, verbose=0)"
      ]
     },
     "execution_count": 21,
     "metadata": {},
     "output_type": "execute_result"
    }
   ],
   "source": [
    "params3 = {\n",
    "        'tfidf__stop_words': [None, 'english'],\n",
    "        'tfidf__max_features': [10, 25, 50],      #iterate over these options to see what is best\n",
    "        'tfidf__min_df': [2, 3, 5],\n",
    "        'tfidf__max_df': [.75, .8, .9, .95]\n",
    "}\n",
    "gs3 = GridSearchCV(pipe3, param_grid=params3, cv=3)\n",
    "gs3.fit(X_train, y_train) # Also does cv in the background"
   ]
  },
  {
   "cell_type": "code",
   "execution_count": 22,
   "metadata": {},
   "outputs": [
    {
     "name": "stdout",
     "output_type": "stream",
     "text": [
      "gs3.best.score_: 0.779783393501805\n",
      "gs3.best.params_: {'tfidf__max_df': 0.75, 'tfidf__max_features': 50, 'tfidf__min_df': 3, 'tfidf__stop_words': 'english'}\n"
     ]
    },
    {
     "data": {
      "text/plain": [
       "Pipeline(memory=None,\n",
       "     steps=[('tfidf', TfidfVectorizer(analyzer='word', binary=False, decode_error='strict',\n",
       "        dtype=<class 'numpy.float64'>, encoding='utf-8', input='content',\n",
       "        lowercase=True, max_df=0.75, max_features=50, min_df=3,\n",
       "        ngram_range=(1, 1), norm='l2', preprocessor=None, smooth_idf=True,\n",
       "...i',\n",
       "           metric_params=None, n_jobs=None, n_neighbors=20, p=2,\n",
       "           weights='uniform'))])"
      ]
     },
     "execution_count": 22,
     "metadata": {},
     "output_type": "execute_result"
    }
   ],
   "source": [
    "print(f'gs3.best.score_: {gs3.best_score_}') # cross_val_score\n",
    "print(f'gs3.best.params_: {gs3.best_params_}')\n",
    "gs3.best_estimator_"
   ]
  },
  {
   "cell_type": "code",
   "execution_count": 23,
   "metadata": {},
   "outputs": [
    {
     "name": "stdout",
     "output_type": "stream",
     "text": [
      "Train Score GS3A: 0.836101083032491\n",
      "Test Score GS3A: 0.8073593073593074\n"
     ]
    }
   ],
   "source": [
    "print(f'Train Score GS3A: {gs3.score(X_train,y_train)}')\n",
    "print(f'Test Score GS3A: {gs3.score(X_test,y_test)}')"
   ]
  },
  {
   "cell_type": "code",
   "execution_count": 24,
   "metadata": {},
   "outputs": [
    {
     "name": "stdout",
     "output_type": "stream",
     "text": [
      "gs3.best.score_: 0.779783393501805\n",
      "gs3.best.params_: {'tfidf__max_df': 0.75, 'tfidf__max_features': 50, 'tfidf__min_df': 3, 'tfidf__stop_words': 'english'}\n"
     ]
    },
    {
     "data": {
      "text/plain": [
       "Pipeline(memory=None,\n",
       "     steps=[('tfidf', TfidfVectorizer(analyzer='word', binary=False, decode_error='strict',\n",
       "        dtype=<class 'numpy.float64'>, encoding='utf-8', input='content',\n",
       "        lowercase=True, max_df=0.75, max_features=50, min_df=3,\n",
       "        ngram_range=(1, 1), norm='l2', preprocessor=None, smooth_idf=True,\n",
       "...i',\n",
       "           metric_params=None, n_jobs=None, n_neighbors=20, p=2,\n",
       "           weights='uniform'))])"
      ]
     },
     "execution_count": 24,
     "metadata": {},
     "output_type": "execute_result"
    }
   ],
   "source": [
    "params3 = {\n",
    "        'tfidf__stop_words': [None, 'english'],\n",
    "        'tfidf__max_features': [10, 25, 50],      #iterate over these options to see what is best\n",
    "        'tfidf__min_df': [2, 3, 5],\n",
    "        'tfidf__max_df': [.75, .8, .9]\n",
    "}\n",
    "gs3 = GridSearchCV(pipe3, param_grid=params3, cv=3)\n",
    "gs3.fit(X_train, y_train) # Also does cv in the background\n",
    "print(f'gs3.best.score_: {gs3.best_score_}') # cross_val_score\n",
    "print(f'gs3.best.params_: {gs3.best_params_}')\n",
    "gs3.best_estimator_"
   ]
  },
  {
   "cell_type": "code",
   "execution_count": 25,
   "metadata": {},
   "outputs": [
    {
     "name": "stdout",
     "output_type": "stream",
     "text": [
      "Train Score GS3B: 0.836101083032491\n",
      "Test Score GS3B: 0.8073593073593074\n"
     ]
    }
   ],
   "source": [
    "print(f'Train Score GS3B: {gs3.score(X_train,y_train)}')\n",
    "print(f'Test Score GS3B: {gs3.score(X_test,y_test)}')"
   ]
  },
  {
   "cell_type": "markdown",
   "metadata": {},
   "source": [
    "<a id=\"section__random_forest\"></a>\n",
    "#### Random Forestm with Tfidf\n",
    "[back](#section__scores_grid)"
   ]
  },
  {
   "cell_type": "code",
   "execution_count": 26,
   "metadata": {},
   "outputs": [],
   "source": [
    "from sklearn.ensemble import RandomForestClassifier, ExtraTreesClassifier"
   ]
  },
  {
   "cell_type": "code",
   "execution_count": 27,
   "metadata": {},
   "outputs": [],
   "source": [
    "#KNN with Tfidf\n",
    "pipe4 = Pipeline([\n",
    "    ('tfidf', TfidfVectorizer()),   #Tfidf vectorizor  \n",
    "    ('rf', RandomForestClassifier(random_state=42))        #model \n",
    "])"
   ]
  },
  {
   "cell_type": "code",
   "execution_count": 28,
   "metadata": {},
   "outputs": [
    {
     "name": "stdout",
     "output_type": "stream",
     "text": [
      "gs4.best.score_: 0.8606498194945849\n",
      "gs4.best.params_: {'rf__max_depth': None, 'rf__max_features': 'auto', 'rf__n_estimators': 50, 'tfidf__max_df': 0.75, 'tfidf__max_features': 50, 'tfidf__min_df': 2, 'tfidf__stop_words': 'english'}\n"
     ]
    },
    {
     "data": {
      "text/plain": [
       "Pipeline(memory=None,\n",
       "     steps=[('tfidf', TfidfVectorizer(analyzer='word', binary=False, decode_error='strict',\n",
       "        dtype=<class 'numpy.float64'>, encoding='utf-8', input='content',\n",
       "        lowercase=True, max_df=0.75, max_features=50, min_df=2,\n",
       "        ngram_range=(1, 1), norm='l2', preprocessor=None, smooth_idf=True,\n",
       "...mators=50, n_jobs=None,\n",
       "            oob_score=False, random_state=42, verbose=0, warm_start=False))])"
      ]
     },
     "execution_count": 28,
     "metadata": {},
     "output_type": "execute_result"
    }
   ],
   "source": [
    "params4 = {\n",
    "    'tfidf__stop_words': [None, 'english'],\n",
    "    'tfidf__max_features': [10, 25, 50],      #iterate over these options to see what is best\n",
    "    'tfidf__min_df': [2, 3, 5],\n",
    "    'tfidf__max_df': [.75, .8, .9, .95],\n",
    "    'rf__n_estimators': [10, 50, 100],  #to get rid of waranigs\n",
    "    'rf__max_depth': [None, 3, 5],\n",
    "    'rf__max_features': ['auto']  #auto is default\n",
    "   }   \n",
    "gs4 = GridSearchCV(pipe4, param_grid=params4, cv=5)\n",
    "gs4.fit(X_train, y_train) # Also does cv in the background\n",
    "print(f'gs4.best.score_: {gs4.best_score_}') # cross_val_score\n",
    "print(f'gs4.best.params_: {gs4.best_params_}')\n",
    "gs4.best_estimator_"
   ]
  },
  {
   "cell_type": "code",
   "execution_count": 29,
   "metadata": {},
   "outputs": [
    {
     "name": "stdout",
     "output_type": "stream",
     "text": [
      "Train Score GS4A: 0.9848375451263538\n",
      "Test Score GS4A: 0.8831168831168831\n"
     ]
    }
   ],
   "source": [
    "print(f'Train Score GS4A: {gs4.score(X_train,y_train)}')\n",
    "print(f'Test Score GS4A: {gs4.score(X_test,y_test)}')"
   ]
  },
  {
   "cell_type": "code",
   "execution_count": 30,
   "metadata": {},
   "outputs": [
    {
     "name": "stdout",
     "output_type": "stream",
     "text": [
      "gs4.best.score_: 0.8418772563176895\n",
      "gs4.best.params_: {'rf__max_depth': 5, 'rf__max_features': 50, 'rf__n_estimators': 10, 'tfidf__max_df': 0.75, 'tfidf__max_features': 50, 'tfidf__min_df': 3, 'tfidf__stop_words': 'english'}\n"
     ]
    },
    {
     "data": {
      "text/plain": [
       "Pipeline(memory=None,\n",
       "     steps=[('tfidf', TfidfVectorizer(analyzer='word', binary=False, decode_error='strict',\n",
       "        dtype=<class 'numpy.float64'>, encoding='utf-8', input='content',\n",
       "        lowercase=True, max_df=0.75, max_features=50, min_df=3,\n",
       "        ngram_range=(1, 1), norm='l2', preprocessor=None, smooth_idf=True,\n",
       "...mators=10, n_jobs=None,\n",
       "            oob_score=False, random_state=42, verbose=0, warm_start=False))])"
      ]
     },
     "execution_count": 30,
     "metadata": {},
     "output_type": "execute_result"
    }
   ],
   "source": [
    "params4 = {\n",
    "    'tfidf__stop_words': [None, 'english'],\n",
    "    'tfidf__max_features': [50],      #iterate over these options to see what is best\n",
    "    'tfidf__min_df': [2, 3, 5],\n",
    "    'tfidf__max_df': [.75, .8, .9, .95],\n",
    "    'rf__n_estimators': [10],  #to get rid of waranigs\n",
    "    'rf__max_depth': [3, 5],\n",
    "    'rf__max_features': [50]  #auto is default\n",
    "   }   \n",
    "gs4 = GridSearchCV(pipe4, param_grid=params4, cv=5)\n",
    "gs4.fit(X_train, y_train)\n",
    "print(f'gs4.best.score_: {gs4.best_score_}') # cross_val_score\n",
    "print(f'gs4.best.params_: {gs4.best_params_}')\n",
    "gs4.best_estimator_"
   ]
  },
  {
   "cell_type": "code",
   "execution_count": 31,
   "metadata": {},
   "outputs": [
    {
     "name": "stdout",
     "output_type": "stream",
     "text": [
      "Train Score GS4B: 0.8570397111913357\n",
      "Test Score GS4B: 0.8311688311688312\n"
     ]
    }
   ],
   "source": [
    "print(f'Train Score GS4B: {gs4.score(X_train,y_train)}')\n",
    "print(f'Test Score GS4B: {gs4.score(X_test,y_test)}')"
   ]
  },
  {
   "cell_type": "markdown",
   "metadata": {},
   "source": [
    "<a id=\"section__ada\"></a>\n",
    "\n",
    "#### ADA with Tfidif\n",
    "\n",
    "[back](#section__scores_grid)"
   ]
  },
  {
   "cell_type": "code",
   "execution_count": 32,
   "metadata": {},
   "outputs": [],
   "source": [
    "# Tuning AdaBoostClassifier\n",
    "\n",
    "from sklearn.datasets import make_classification\n",
    "from sklearn.model_selection import train_test_split, GridSearchCV\n",
    "from sklearn.ensemble import GradientBoostingClassifier, AdaBoostClassifier\n",
    "from sklearn.tree import DecisionTreeClassifier"
   ]
  },
  {
   "cell_type": "code",
   "execution_count": 33,
   "metadata": {},
   "outputs": [],
   "source": [
    "#AdaBoost with Tfidf\n",
    "pipe5 = Pipeline([\n",
    "    ('tfidf', TfidfVectorizer()),   #Tfidf vectorizor  \n",
    "    ('ada', AdaBoostClassifier())        #model \n",
    "])"
   ]
  },
  {
   "cell_type": "code",
   "execution_count": 34,
   "metadata": {},
   "outputs": [
    {
     "name": "stdout",
     "output_type": "stream",
     "text": [
      "gs5.best.score_: 0.8483754512635379\n",
      "gs5.best.params_: {'tfidf__max_df': 0.75, 'tfidf__max_features': 50, 'tfidf__min_df': 3, 'tfidf__stop_words': 'english'}\n"
     ]
    },
    {
     "data": {
      "text/plain": [
       "Pipeline(memory=None,\n",
       "     steps=[('tfidf', TfidfVectorizer(analyzer='word', binary=False, decode_error='strict',\n",
       "        dtype=<class 'numpy.float64'>, encoding='utf-8', input='content',\n",
       "        lowercase=True, max_df=0.75, max_features=50, min_df=3,\n",
       "        ngram_range=(1, 1), norm='l2', preprocessor=None, smooth_idf=True,\n",
       "...m='SAMME.R', base_estimator=None,\n",
       "          learning_rate=1.0, n_estimators=50, random_state=None))])"
      ]
     },
     "execution_count": 34,
     "metadata": {},
     "output_type": "execute_result"
    }
   ],
   "source": [
    "params5 = {\n",
    "    'tfidf__stop_words': [None, 'english'],\n",
    "    'tfidf__max_features': [10, 25, 50],      #iterate over these options to see what is best\n",
    "    'tfidf__min_df': [2, 3, 5],\n",
    "    'tfidf__max_df': [.75, .8, .9, .95]\n",
    "    #'ada__n_estimators': [60,70,80],\n",
    "    #'ada__base_estimator__max_depth':[1,2],\n",
    "    #'ada__base_estimator__max_features':[None,10]    \n",
    "}\n",
    "gs5 = GridSearchCV(pipe5, param_grid=params5, cv=5)\n",
    "gs5.fit(X_train, y_train)\n",
    "\n",
    "print(f'gs5.best.score_: {gs5.best_score_}') # cross_val_score\n",
    "print(f'gs5.best.params_: {gs5.best_params_}')\n",
    "gs5.best_estimator_"
   ]
  },
  {
   "cell_type": "code",
   "execution_count": 35,
   "metadata": {},
   "outputs": [
    {
     "name": "stdout",
     "output_type": "stream",
     "text": [
      "Train Score GS5A: 0.9010830324909748\n",
      "Test Score GS5A: 0.8831168831168831\n"
     ]
    }
   ],
   "source": [
    "print(f'Train Score GS5A: {gs5.score(X_train,y_train)}')\n",
    "print(f'Test Score GS5A: {gs5.score(X_test,y_test)}')"
   ]
  },
  {
   "cell_type": "code",
   "execution_count": 36,
   "metadata": {},
   "outputs": [
    {
     "name": "stdout",
     "output_type": "stream",
     "text": [
      "gs5.best.score_: 0.8483754512635379\n",
      "gs5.best.params_: {'tfidf__max_df': 0.75, 'tfidf__max_features': 50, 'tfidf__min_df': 3, 'tfidf__stop_words': 'english'}\n"
     ]
    },
    {
     "data": {
      "text/plain": [
       "Pipeline(memory=None,\n",
       "     steps=[('tfidf', TfidfVectorizer(analyzer='word', binary=False, decode_error='strict',\n",
       "        dtype=<class 'numpy.float64'>, encoding='utf-8', input='content',\n",
       "        lowercase=True, max_df=0.75, max_features=50, min_df=3,\n",
       "        ngram_range=(1, 1), norm='l2', preprocessor=None, smooth_idf=True,\n",
       "...m='SAMME.R', base_estimator=None,\n",
       "          learning_rate=1.0, n_estimators=50, random_state=None))])"
      ]
     },
     "execution_count": 36,
     "metadata": {},
     "output_type": "execute_result"
    }
   ],
   "source": [
    "params5 = {\n",
    "    'tfidf__stop_words': [None, 'english'],\n",
    "    'tfidf__max_features': [10, 25, 50],      #iterate over these options to see what is best\n",
    "    'tfidf__min_df': [2, 3, 5],\n",
    "    'tfidf__max_df': [.75, .8, .9, .95]\n",
    "    #'ada__n_estimators': [60,70,80],\n",
    "    #'ada__base_estimator__max_depth':[1,2],\n",
    "    #'ada__base_estimator__max_features':[50]    \n",
    "}\n",
    "gs5 = GridSearchCV(pipe5, param_grid=params5, cv=5)\n",
    "gs5.fit(X_train, y_train)\n",
    "\n",
    "print(f'gs5.best.score_: {gs5.best_score_}') # cross_val_score\n",
    "print(f'gs5.best.params_: {gs5.best_params_}')\n",
    "gs5.best_estimator_"
   ]
  },
  {
   "cell_type": "code",
   "execution_count": 37,
   "metadata": {},
   "outputs": [
    {
     "name": "stdout",
     "output_type": "stream",
     "text": [
      "Train Score GS5B: 0.9010830324909748\n",
      "Test Score GS5B: 0.8831168831168831\n"
     ]
    }
   ],
   "source": [
    "print(f'Train Score GS5B: {gs5.score(X_train,y_train)}')\n",
    "print(f'Test Score GS5B: {gs5.score(X_test,y_test)}')"
   ]
  },
  {
   "cell_type": "markdown",
   "metadata": {},
   "source": [
    "<a id='section__Model_Tuning'></a>\n",
    "\n",
    "####  Additional Tuning before deciding\n",
    "\n",
    "Having run through a variety of scenrios using the above, I determined that my best results were with Logistic Regression and Naive Bayes. I had not tried Naive Bayes with CountVectorize or LogisticRegression with Tfidif, so I decided to try these combinations, and test even more parameters to fine the best before deciding on a final model. It at first seemed GridSearch would always pick the max features I allow, and the min_df I allow. Through more experimentation I was able to find a combination that produced the best score, with parameters that fell in the middle of the ranges for which I tried, using Logistic Regression with Tfidif.  \n",
    "\n",
    "[back to top](#section__top)"
   ]
  },
  {
   "cell_type": "code",
   "execution_count": 38,
   "metadata": {},
   "outputs": [
    {
     "name": "stdout",
     "output_type": "stream",
     "text": [
      "NB best score_: 0.9588447653429603\n",
      "NB best params_: {'cvec__max_df': 0.5, 'cvec__max_features': 1500, 'cvec__min_df': 2, 'cvec__stop_words': 'english'}\n",
      "NB best estimator: Pipeline(memory=None,\n",
      "     steps=[('cvec', CountVectorizer(analyzer='word', binary=False, decode_error='strict',\n",
      "        dtype=<class 'numpy.int64'>, encoding='utf-8', input='content',\n",
      "        lowercase=True, max_df=0.5, max_features=1500, min_df=2,\n",
      "        ngram_range=(1, 1), preprocessor=None, stop_words='english',\n",
      "        strip_accents=None, token_pattern='(?u)\\\\b\\\\w\\\\w+\\\\b',\n",
      "        tokenizer=None, vocabulary=None)), ('mnb', MultinomialNB(alpha=1.0, class_prior=None, fit_prior=True))])\n",
      "NB Train Score: 0.9718411552346571\n",
      "NB Test Score: 0.9588744588744589\n",
      "NB Train - Test Score: = 0.012966696360198204\n"
     ]
    }
   ],
   "source": [
    "#Naive Bayes with CountVectorizer\n",
    "pipeNB = Pipeline([\n",
    "    ('cvec', CountVectorizer()),   #count vectorizor\n",
    "    ('mnb', MultinomialNB())        #model \n",
    "])\n",
    "paramsNB = {\n",
    "    'cvec__stop_words': ['english'],\n",
    "    'cvec__max_features': [1000, 1500],     \n",
    "    'cvec__min_df': [2, 2, 3],\n",
    "    'cvec__max_df': [.10, .25, .50, .75, .9]\n",
    "}\n",
    "gsNB = GridSearchCV(pipeNB, param_grid=paramsNB, cv=3)\n",
    "gsNB.fit(X_train, y_train) # Also does cv in the background\n",
    "\n",
    "print(f'NB best score_: {gsNB.best_score_}') # cross_val_score\n",
    "print(f'NB best params_: {gsNB.best_params_}')\n",
    "print(f'NB best estimator: {gsNB.best_estimator_}')\n",
    "nb_train_score = gsNB.score(X_train,y_train)\n",
    "nb_test_score = gsNB.score(X_test,y_test)\n",
    "nb_score_diff = gsNB.score(X_train,y_train) - gsNB.score(X_test,y_test)\n",
    "print(f'NB Train Score: {nb_train_score}')\n",
    "print(f'NB Test Score: {nb_test_score}')\n",
    "print(f'NB Train - Test Score: = {nb_score_diff}')\n",
    "\n"
   ]
  },
  {
   "cell_type": "code",
   "execution_count": 39,
   "metadata": {},
   "outputs": [
    {
     "name": "stdout",
     "output_type": "stream",
     "text": [
      "LR best score_: 0.9501805054151624\n",
      "LR best params_: {'lr__random_state': 42, 'tfidf__max_df': 0.25, 'tfidf__max_features': 2500, 'tfidf__min_df': 1, 'tfidf__stop_words': 'english'}\n",
      "LR Train Score: 0.9855595667870036\n",
      "LR Test Score: 0.9588744588744589\n",
      "LR Train - Test Score: = 0.026685107912544748\n",
      "Accuracy rate: 0.9588744588744589, misclassification rate: 0.04112554112554112\n"
     ]
    }
   ],
   "source": [
    "## Logistic regression with Tfidif\n",
    "pipeLR = Pipeline([\n",
    "    ('tfidf', TfidfVectorizer()),   #Tfidf vectorizor \n",
    "    ('lr', LogisticRegression())     #model \n",
    "])\n",
    "paramsLR = {\n",
    "    'lr__random_state': [42],\n",
    "    'tfidf__stop_words': ['english'],\n",
    "    'tfidf__max_features': [30, 50, 100, 500, 1500, 2000, 2500, 3000],      #iterate over these options to see what is best\n",
    "    'tfidf__min_df': [1, 2, 3, 5],\n",
    "    'tfidf__max_df': [ .10, .25, .50, .75, .9]\n",
    "\n",
    "}\n",
    "gsLR = GridSearchCV(pipeLR, param_grid=paramsLR, cv=3)\n",
    "gsLR.fit(X_train, y_train) # Also does cv in the background\n",
    "print(f'LR best score_: {gsLR.best_score_}') # cross_val_score\n",
    "print(f'LR best params_: {gsLR.best_params_}')\n",
    "#print(f'LR best estimator: {gsLR.best_estimator_}')\n",
    "lr_train_score = gsLR.score(X_train,y_train)\n",
    "lr_test_score = gsLR.score(X_test,y_test)\n",
    "lr_score_diff = gsLR.score(X_train,y_train) - gsLR.score(X_test,y_test)\n",
    "print(f'LR Train Score: {lr_train_score}')\n",
    "print(f'LR Test Score: {lr_test_score}')\n",
    "print(f'LR Train - Test Score: = {lr_score_diff}')\n",
    "\n",
    "predictions = gsLR.predict(X_test)\n",
    "\n",
    "tn, fp, fn, tp = confusion_matrix(y_test, predictions).ravel()\n",
    "\n",
    "accuracy = (tp + tn) / (tp + tn + fp + fn)\n",
    "misclassification = 1 - accuracy\n",
    "print(f'Accuracy rate: {accuracy}, misclassification rate: {misclassification}')"
   ]
  },
  {
   "cell_type": "code",
   "execution_count": null,
   "metadata": {},
   "outputs": [],
   "source": []
  },
  {
   "cell_type": "markdown",
   "metadata": {},
   "source": [
    "##### Final tuning of the chosen model\n",
    "Iterating over different parameter sets, looking for: \n",
    "-  Maximum scores\n",
    "-  Minimum difference between train and test score\n",
    "-  Maximum Accuracy of Predictions (Looking for 90%)\n",
    "-  All other things being equal, simplicity of model\n",
    "<br>\n",
    "\n",
    "\n",
    "Here is a snapshot of the different parameters that were tested. Following is a table that summarizes the results.\n",
    "\n",
    "```\n",
    "#Logistic regression with Tfidif\n",
    "pipeLR = Pipeline([\n",
    "    ('tfidf', TfidfVectorizer()),   #Tfidf vectorizor \n",
    "    ('lr', LogisticRegression())     #model \n",
    "])\n",
    "paramsLR = {\n",
    "    'lr__random_state': [42],\n",
    "    'tfidf__stop_words': ['english'],\n",
    "    'tfidf__max_features': [30, 50, 100, 500, 1500, 2000, 2500, 3000],      #iterate over these options to see what is best\n",
    "    'tfidf__min_df': [ 1, 2, 3, 5],\n",
    "    'tfidf__max_df': [ .10, .25, .50, .75, .9]\n",
    "\n",
    "}\n",
    "```"
   ]
  },
  {
   "cell_type": "markdown",
   "metadata": {},
   "source": [
    "|max_features|min_df|max_df|train score|test score|score diff|accuracy|notes|\n",
    "|------------|------|------|-----------|----------|----------|--------|-----|\n",
    "|50|1|.25|.889|.870|.0194|.870|\n",
    "|100|2|.5|.921|.900|.02|.90|\n",
    "|500|5|.5|.973|.961|.012|.961|This is the winner|\n",
    "|1500|2|.5|.984|.961|.023|.961|\n",
    "|2000|1|.25|.985|.958|.026|.958|\n",
    "|2500|1|.25|.985|.958|.026|.958|Hit max features, would not grow beyond|\n",
    "| 2000|   3 | .25 | .985 | .958|.026  | .958 | Constrained min_df to 3|"
   ]
  },
  {
   "cell_type": "markdown",
   "metadata": {},
   "source": [
    "*Note:* To improve on this workflow for the future, build a function to iterate through these options, and put the results metrics of interest in a dataframe."
   ]
  },
  {
   "cell_type": "markdown",
   "metadata": {},
   "source": [
    "Moving forward with the chosen model and the chosen best parameters:"
   ]
  },
  {
   "cell_type": "code",
   "execution_count": 40,
   "metadata": {},
   "outputs": [
    {
     "name": "stdout",
     "output_type": "stream",
     "text": [
      "LR best score_: 0.940072202166065\n",
      "LR best params_: {'lr__random_state': 42, 'tfidf__max_df': 0.5, 'tfidf__max_features': 500, 'tfidf__min_df': 5, 'tfidf__stop_words': 'english'}\n",
      "LR Train Score: 0.9732851985559566\n",
      "LR Test Score: 0.961038961038961\n",
      "LR Train - Test Score: = 0.012246237516995606\n",
      "Accuracy rate: 0.961038961038961, misclassification rate: 0.038961038961038974\n"
     ]
    }
   ],
   "source": [
    "## Logistic regression with Tfidif\n",
    "pipeLR = Pipeline([\n",
    "    ('tfidf', TfidfVectorizer()),   #Tfidf vectorizor \n",
    "    ('lr', LogisticRegression())     #model \n",
    "])\n",
    "paramsLR = {\n",
    "    'lr__random_state': [42],\n",
    "    'tfidf__stop_words': ['english'],\n",
    "    'tfidf__max_features': [500],      #iterate over these options to see what is best\n",
    "    'tfidf__min_df': [5],\n",
    "    'tfidf__max_df': [.50]\n",
    "\n",
    "}\n",
    "gsLR = GridSearchCV(pipeLR, param_grid=paramsLR, cv=3)\n",
    "gsLR.fit(X_train, y_train) # Also does cv in the background\n",
    "print(f'LR best score_: {gsLR.best_score_}') # cross_val_score\n",
    "print(f'LR best params_: {gsLR.best_params_}')\n",
    "#print(f'LR best estimator: {gsLR.best_estimator_}')\n",
    "lr_train_score = gsLR.score(X_train,y_train)\n",
    "lr_test_score = gsLR.score(X_test,y_test)\n",
    "lr_score_diff = gsLR.score(X_train,y_train) - gsLR.score(X_test,y_test)\n",
    "print(f'LR Train Score: {lr_train_score}')\n",
    "print(f'LR Test Score: {lr_test_score}')\n",
    "print(f'LR Train - Test Score: = {lr_score_diff}')\n",
    "\n",
    "predictions = gsLR.predict(X_test)\n",
    "\n",
    "tn, fp, fn, tp = confusion_matrix(y_test, predictions).ravel()\n",
    "\n",
    "accuracy = (tp + tn) / (tp + tn + fp + fn)\n",
    "misclassification = 1 - accuracy\n",
    "print(f'Accuracy rate: {accuracy}, misclassification rate: {misclassification}')"
   ]
  },
  {
   "cell_type": "markdown",
   "metadata": {},
   "source": [
    "<a id='section__Predictions'></a>\n",
    "\n",
    "### Predictions and Model Evaluation\n",
    "Let's see how our chosen model actually behaves on unseen data.\n",
    "\n",
    "<br>\n",
    "[back to top](#section__top)"
   ]
  },
  {
   "cell_type": "code",
   "execution_count": 41,
   "metadata": {},
   "outputs": [
    {
     "name": "stdout",
     "output_type": "stream",
     "text": [
      "Accuracy rate: 0.961038961038961, misclassification rate: 0.038961038961038974\n"
     ]
    }
   ],
   "source": [
    "#generate predictions on the test data\n",
    "predictions = gsLR.predict(X_test)\n",
    "#get the true negative, false positive, false negative, and true positive \n",
    "#value from the confusion_matrix.\n",
    "tn, fp, fn, tp = confusion_matrix(y_test, predictions).ravel()\n",
    "\n",
    "accuracy = (tp + tn) / (tp + tn + fp + fn)\n",
    "misclassification = 1 - accuracy\n",
    "print(f'Accuracy rate: {accuracy}, misclassification rate: {misclassification}')"
   ]
  },
  {
   "cell_type": "code",
   "execution_count": 42,
   "metadata": {},
   "outputs": [
    {
     "data": {
      "text/html": [
       "<div>\n",
       "<style scoped>\n",
       "    .dataframe tbody tr th:only-of-type {\n",
       "        vertical-align: middle;\n",
       "    }\n",
       "\n",
       "    .dataframe tbody tr th {\n",
       "        vertical-align: top;\n",
       "    }\n",
       "\n",
       "    .dataframe thead th {\n",
       "        text-align: right;\n",
       "    }\n",
       "</style>\n",
       "<table border=\"1\" class=\"dataframe\">\n",
       "  <thead>\n",
       "    <tr style=\"text-align: right;\">\n",
       "      <th></th>\n",
       "      <th>predicted r/travel</th>\n",
       "      <th>predicted other subreddits</th>\n",
       "    </tr>\n",
       "  </thead>\n",
       "  <tbody>\n",
       "    <tr>\n",
       "      <th>Actual r/travel</th>\n",
       "      <td>256</td>\n",
       "      <td>4</td>\n",
       "    </tr>\n",
       "    <tr>\n",
       "      <th>Actual other subreddits</th>\n",
       "      <td>14</td>\n",
       "      <td>188</td>\n",
       "    </tr>\n",
       "  </tbody>\n",
       "</table>\n",
       "</div>"
      ],
      "text/plain": [
       "                         predicted r/travel  predicted other subreddits\n",
       "Actual r/travel                         256                           4\n",
       "Actual other subreddits                  14                         188"
      ]
     },
     "execution_count": 42,
     "metadata": {},
     "output_type": "execute_result"
    }
   ],
   "source": [
    "#Display the confusion matrix tavle\n",
    "cm = confusion_matrix(y_test, predictions)\n",
    "cm_df = pd.DataFrame(data=cm, columns=['predicted r/travel', \n",
    "                                       'predicted other subreddits'], \n",
    "                     index=['Actual r/travel', 'Actual other subreddits'])\n",
    "cm_df"
   ]
  },
  {
   "cell_type": "markdown",
   "metadata": {},
   "source": [
    "We can see that we do indeed have very few misclassified posts. We will examine those in detail below, but before we do, let's take a look at the classification report and the ROC Curve to get more insight into how our model is performing."
   ]
  },
  {
   "cell_type": "code",
   "execution_count": 43,
   "metadata": {},
   "outputs": [
    {
     "name": "stdout",
     "output_type": "stream",
     "text": [
      "              precision    recall  f1-score   support\n",
      "\n",
      "      travel       0.95      0.98      0.97       260\n",
      "  not travel       0.98      0.93      0.95       202\n",
      "\n",
      "   micro avg       0.96      0.96      0.96       462\n",
      "   macro avg       0.96      0.96      0.96       462\n",
      "weighted avg       0.96      0.96      0.96       462\n",
      "\n"
     ]
    }
   ],
   "source": [
    "from sklearn.metrics import classification_report\n",
    "print(classification_report(y_test, predictions, target_names=['travel', 'not travel']))"
   ]
  },
  {
   "cell_type": "code",
   "execution_count": 44,
   "metadata": {},
   "outputs": [
    {
     "data": {
      "image/png": "[encoded data removed]",
      "text/plain": [
       "<Figure size 432x288 with 1 Axes>"
      ]
     },
     "metadata": {
      "needs_background": "light"
     },
     "output_type": "display_data"
    }
   ],
   "source": [
    "#https://stackoverflow.com/questions/25009284/how-to-plot-roc-curve-in-python\n",
    "#thanks to James Hampton for the link\n",
    "model = gsLR\n",
    "# calculate the fpr and tpr for all thresholds of the classification\n",
    "probs = model.predict_proba(X_test)\n",
    "preds = probs[:,1]\n",
    "fpr, tpr, threshold = metrics.roc_curve(y_test, preds)\n",
    "roc_auc = metrics.auc(fpr, tpr)\n",
    "\n",
    "\n",
    "import matplotlib.pyplot as plt\n",
    "plt.title('Receiver Operating Characteristic')\n",
    "plt.plot(fpr, tpr, 'b', label = 'AUC = %0.2f' % roc_auc)\n",
    "plt.legend(loc = 'lower right')\n",
    "plt.plot([0, 1], [0, 1],'r--')\n",
    "plt.xlim([0, 1])\n",
    "plt.ylim([0, 1])\n",
    "plt.ylabel('True Positive Rate')\n",
    "plt.xlabel('False Positive Rate')\n",
    "\n",
    "plt.savefig('../images/roc.jpg');\n",
    "plt.show()\n"
   ]
  },
  {
   "cell_type": "markdown",
   "metadata": {},
   "source": [
    "We can also look at the predicted probabilities for each new post. Look at the predict probas. "
   ]
  },
  {
   "cell_type": "code",
   "execution_count": 45,
   "metadata": {},
   "outputs": [],
   "source": [
    "pred_df = pd.DataFrame({'cleaned_post': X_test,\n",
    "                        'y_test': y_test,\n",
    "                        'prediction': predictions,\n",
    "                        'proba_not_travel': probs[:,0],\n",
    "                        'proba_travel': probs[:,1]})\n",
    "pred_df['misclassified'] = abs(pred_df['y_test'] - pred_df['prediction'])\n",
    "                        "
   ]
  },
  {
   "cell_type": "code",
   "execution_count": 46,
   "metadata": {},
   "outputs": [
    {
     "data": {
      "text/html": [
       "<div>\n",
       "<style scoped>\n",
       "    .dataframe tbody tr th:only-of-type {\n",
       "        vertical-align: middle;\n",
       "    }\n",
       "\n",
       "    .dataframe tbody tr th {\n",
       "        vertical-align: top;\n",
       "    }\n",
       "\n",
       "    .dataframe thead th {\n",
       "        text-align: right;\n",
       "    }\n",
       "</style>\n",
       "<table border=\"1\" class=\"dataframe\">\n",
       "  <thead>\n",
       "    <tr style=\"text-align: right;\">\n",
       "      <th></th>\n",
       "      <th>cleaned_post</th>\n",
       "      <th>y_test</th>\n",
       "      <th>prediction</th>\n",
       "      <th>proba_not_travel</th>\n",
       "      <th>proba_travel</th>\n",
       "      <th>misclassified</th>\n",
       "    </tr>\n",
       "  </thead>\n",
       "  <tbody>\n",
       "    <tr>\n",
       "      <th>227</th>\n",
       "      <td>so i m going to europe uk for a few weeks and ...</td>\n",
       "      <td>1</td>\n",
       "      <td>1</td>\n",
       "      <td>0.412025</td>\n",
       "      <td>0.587975</td>\n",
       "      <td>0</td>\n",
       "    </tr>\n",
       "    <tr>\n",
       "      <th>997</th>\n",
       "      <td>while at the gym i notice people lean with the...</td>\n",
       "      <td>0</td>\n",
       "      <td>0</td>\n",
       "      <td>0.942872</td>\n",
       "      <td>0.057128</td>\n",
       "      <td>0</td>\n",
       "    </tr>\n",
       "    <tr>\n",
       "      <th>790</th>\n",
       "      <td>im using my vacation to travel to morocco this...</td>\n",
       "      <td>1</td>\n",
       "      <td>1</td>\n",
       "      <td>0.228280</td>\n",
       "      <td>0.771720</td>\n",
       "      <td>0</td>\n",
       "    </tr>\n",
       "    <tr>\n",
       "      <th>224</th>\n",
       "      <td>my wife and i are traveling to spain this may ...</td>\n",
       "      <td>1</td>\n",
       "      <td>1</td>\n",
       "      <td>0.074150</td>\n",
       "      <td>0.925850</td>\n",
       "      <td>0</td>\n",
       "    </tr>\n",
       "    <tr>\n",
       "      <th>1801</th>\n",
       "      <td>my neighbor recently put out a perfectly new w...</td>\n",
       "      <td>0</td>\n",
       "      <td>0</td>\n",
       "      <td>0.972786</td>\n",
       "      <td>0.027214</td>\n",
       "      <td>0</td>\n",
       "    </tr>\n",
       "  </tbody>\n",
       "</table>\n",
       "</div>"
      ],
      "text/plain": [
       "                                           cleaned_post  y_test  prediction  \\\n",
       "227   so i m going to europe uk for a few weeks and ...       1           1   \n",
       "997   while at the gym i notice people lean with the...       0           0   \n",
       "790   im using my vacation to travel to morocco this...       1           1   \n",
       "224   my wife and i are traveling to spain this may ...       1           1   \n",
       "1801  my neighbor recently put out a perfectly new w...       0           0   \n",
       "\n",
       "      proba_not_travel  proba_travel  misclassified  \n",
       "227           0.412025      0.587975              0  \n",
       "997           0.942872      0.057128              0  \n",
       "790           0.228280      0.771720              0  \n",
       "224           0.074150      0.925850              0  \n",
       "1801          0.972786      0.027214              0  "
      ]
     },
     "execution_count": 46,
     "metadata": {},
     "output_type": "execute_result"
    }
   ],
   "source": [
    "pred_df.head()"
   ]
  },
  {
   "cell_type": "code",
   "execution_count": 47,
   "metadata": {},
   "outputs": [],
   "source": [
    "missed_mask = pred_df['misclassified']==1"
   ]
  },
  {
   "cell_type": "code",
   "execution_count": 48,
   "metadata": {},
   "outputs": [],
   "source": [
    "missed_df = pred_df[missed_mask]"
   ]
  },
  {
   "cell_type": "code",
   "execution_count": 49,
   "metadata": {},
   "outputs": [
    {
     "data": {
      "text/html": [
       "<div>\n",
       "<style scoped>\n",
       "    .dataframe tbody tr th:only-of-type {\n",
       "        vertical-align: middle;\n",
       "    }\n",
       "\n",
       "    .dataframe tbody tr th {\n",
       "        vertical-align: top;\n",
       "    }\n",
       "\n",
       "    .dataframe thead th {\n",
       "        text-align: right;\n",
       "    }\n",
       "</style>\n",
       "<table border=\"1\" class=\"dataframe\">\n",
       "  <thead>\n",
       "    <tr style=\"text-align: right;\">\n",
       "      <th></th>\n",
       "      <th>cleaned_post</th>\n",
       "      <th>y_test</th>\n",
       "      <th>prediction</th>\n",
       "      <th>proba_not_travel</th>\n",
       "      <th>proba_travel</th>\n",
       "      <th>misclassified</th>\n",
       "    </tr>\n",
       "  </thead>\n",
       "  <tbody>\n",
       "    <tr>\n",
       "      <th>1498</th>\n",
       "      <td>hey all first time poster in this sub new job ...</td>\n",
       "      <td>0</td>\n",
       "      <td>1</td>\n",
       "      <td>0.432670</td>\n",
       "      <td>0.567330</td>\n",
       "      <td>1</td>\n",
       "    </tr>\n",
       "    <tr>\n",
       "      <th>116</th>\n",
       "      <td>i m looking to take or days to head into b c f...</td>\n",
       "      <td>1</td>\n",
       "      <td>0</td>\n",
       "      <td>0.503158</td>\n",
       "      <td>0.496842</td>\n",
       "      <td>1</td>\n",
       "    </tr>\n",
       "    <tr>\n",
       "      <th>1620</th>\n",
       "      <td>i m heading to japan next week i ve heard rumo...</td>\n",
       "      <td>0</td>\n",
       "      <td>1</td>\n",
       "      <td>0.428324</td>\n",
       "      <td>0.571676</td>\n",
       "      <td>1</td>\n",
       "    </tr>\n",
       "    <tr>\n",
       "      <th>370</th>\n",
       "      <td>unaccompanied</td>\n",
       "      <td>1</td>\n",
       "      <td>0</td>\n",
       "      <td>0.673257</td>\n",
       "      <td>0.326743</td>\n",
       "      <td>1</td>\n",
       "    </tr>\n",
       "    <tr>\n",
       "      <th>132</th>\n",
       "      <td>as the title states i m looking for a hard she...</td>\n",
       "      <td>1</td>\n",
       "      <td>0</td>\n",
       "      <td>0.523562</td>\n",
       "      <td>0.476438</td>\n",
       "      <td>1</td>\n",
       "    </tr>\n",
       "    <tr>\n",
       "      <th>133</th>\n",
       "      <td>hi guys apologies if this has been asked befor...</td>\n",
       "      <td>1</td>\n",
       "      <td>0</td>\n",
       "      <td>0.559855</td>\n",
       "      <td>0.440145</td>\n",
       "      <td>1</td>\n",
       "    </tr>\n",
       "    <tr>\n",
       "      <th>178</th>\n",
       "      <td>so my family and i are traveling tomorrow my w...</td>\n",
       "      <td>1</td>\n",
       "      <td>0</td>\n",
       "      <td>0.628338</td>\n",
       "      <td>0.371662</td>\n",
       "      <td>1</td>\n",
       "    </tr>\n",
       "    <tr>\n",
       "      <th>468</th>\n",
       "      <td>my wife and i were hoping to visit israel and ...</td>\n",
       "      <td>1</td>\n",
       "      <td>0</td>\n",
       "      <td>0.633227</td>\n",
       "      <td>0.366773</td>\n",
       "      <td>1</td>\n",
       "    </tr>\n",
       "    <tr>\n",
       "      <th>177</th>\n",
       "      <td>i ve got a simple problem but couldn t find an...</td>\n",
       "      <td>1</td>\n",
       "      <td>0</td>\n",
       "      <td>0.633557</td>\n",
       "      <td>0.366443</td>\n",
       "      <td>1</td>\n",
       "    </tr>\n",
       "    <tr>\n",
       "      <th>1748</th>\n",
       "      <td>for the last several years my gf and i have be...</td>\n",
       "      <td>0</td>\n",
       "      <td>1</td>\n",
       "      <td>0.314038</td>\n",
       "      <td>0.685962</td>\n",
       "      <td>1</td>\n",
       "    </tr>\n",
       "    <tr>\n",
       "      <th>759</th>\n",
       "      <td>i ve just traveled from philadelphia to dublin...</td>\n",
       "      <td>1</td>\n",
       "      <td>0</td>\n",
       "      <td>0.505573</td>\n",
       "      <td>0.494427</td>\n",
       "      <td>1</td>\n",
       "    </tr>\n",
       "    <tr>\n",
       "      <th>766</th>\n",
       "      <td>link to the game https earth google com web a ...</td>\n",
       "      <td>1</td>\n",
       "      <td>0</td>\n",
       "      <td>0.714721</td>\n",
       "      <td>0.285279</td>\n",
       "      <td>1</td>\n",
       "    </tr>\n",
       "    <tr>\n",
       "      <th>747</th>\n",
       "      <td>i ve recently become super inclined to try dif...</td>\n",
       "      <td>1</td>\n",
       "      <td>0</td>\n",
       "      <td>0.595155</td>\n",
       "      <td>0.404845</td>\n",
       "      <td>1</td>\n",
       "    </tr>\n",
       "    <tr>\n",
       "      <th>521</th>\n",
       "      <td>hello so we are flying out to cancun airport a...</td>\n",
       "      <td>1</td>\n",
       "      <td>0</td>\n",
       "      <td>0.593383</td>\n",
       "      <td>0.406617</td>\n",
       "      <td>1</td>\n",
       "    </tr>\n",
       "    <tr>\n",
       "      <th>195</th>\n",
       "      <td>i ve tried several hotel search engines and i ...</td>\n",
       "      <td>1</td>\n",
       "      <td>0</td>\n",
       "      <td>0.605213</td>\n",
       "      <td>0.394787</td>\n",
       "      <td>1</td>\n",
       "    </tr>\n",
       "    <tr>\n",
       "      <th>142</th>\n",
       "      <td>title says it all hey all i am applying for my...</td>\n",
       "      <td>1</td>\n",
       "      <td>0</td>\n",
       "      <td>0.523589</td>\n",
       "      <td>0.476411</td>\n",
       "      <td>1</td>\n",
       "    </tr>\n",
       "    <tr>\n",
       "      <th>1766</th>\n",
       "      <td>hello all i am in need of some advice my gf an...</td>\n",
       "      <td>0</td>\n",
       "      <td>1</td>\n",
       "      <td>0.196398</td>\n",
       "      <td>0.803602</td>\n",
       "      <td>1</td>\n",
       "    </tr>\n",
       "    <tr>\n",
       "      <th>360</th>\n",
       "      <td>at gas stations throughout california they off...</td>\n",
       "      <td>1</td>\n",
       "      <td>0</td>\n",
       "      <td>0.655985</td>\n",
       "      <td>0.344015</td>\n",
       "      <td>1</td>\n",
       "    </tr>\n",
       "  </tbody>\n",
       "</table>\n",
       "</div>"
      ],
      "text/plain": [
       "                                           cleaned_post  y_test  prediction  \\\n",
       "1498  hey all first time poster in this sub new job ...       0           1   \n",
       "116   i m looking to take or days to head into b c f...       1           0   \n",
       "1620  i m heading to japan next week i ve heard rumo...       0           1   \n",
       "370                                       unaccompanied       1           0   \n",
       "132   as the title states i m looking for a hard she...       1           0   \n",
       "133   hi guys apologies if this has been asked befor...       1           0   \n",
       "178   so my family and i are traveling tomorrow my w...       1           0   \n",
       "468   my wife and i were hoping to visit israel and ...       1           0   \n",
       "177   i ve got a simple problem but couldn t find an...       1           0   \n",
       "1748  for the last several years my gf and i have be...       0           1   \n",
       "759   i ve just traveled from philadelphia to dublin...       1           0   \n",
       "766   link to the game https earth google com web a ...       1           0   \n",
       "747   i ve recently become super inclined to try dif...       1           0   \n",
       "521   hello so we are flying out to cancun airport a...       1           0   \n",
       "195   i ve tried several hotel search engines and i ...       1           0   \n",
       "142   title says it all hey all i am applying for my...       1           0   \n",
       "1766  hello all i am in need of some advice my gf an...       0           1   \n",
       "360   at gas stations throughout california they off...       1           0   \n",
       "\n",
       "      proba_not_travel  proba_travel  misclassified  \n",
       "1498          0.432670      0.567330              1  \n",
       "116           0.503158      0.496842              1  \n",
       "1620          0.428324      0.571676              1  \n",
       "370           0.673257      0.326743              1  \n",
       "132           0.523562      0.476438              1  \n",
       "133           0.559855      0.440145              1  \n",
       "178           0.628338      0.371662              1  \n",
       "468           0.633227      0.366773              1  \n",
       "177           0.633557      0.366443              1  \n",
       "1748          0.314038      0.685962              1  \n",
       "759           0.505573      0.494427              1  \n",
       "766           0.714721      0.285279              1  \n",
       "747           0.595155      0.404845              1  \n",
       "521           0.593383      0.406617              1  \n",
       "195           0.605213      0.394787              1  \n",
       "142           0.523589      0.476411              1  \n",
       "1766          0.196398      0.803602              1  \n",
       "360           0.655985      0.344015              1  "
      ]
     },
     "execution_count": 49,
     "metadata": {},
     "output_type": "execute_result"
    }
   ],
   "source": [
    "missed_df"
   ]
  },
  {
   "cell_type": "code",
   "execution_count": 50,
   "metadata": {},
   "outputs": [
    {
     "data": {
      "text/plain": [
       "'title says it all hey all i am applying for my first us passport and on the form it asks for mothers fathers name dob and birth place only my mom is listed on my birth certificate and when i asked her about dear ole dad she shrugged and said she didn t know or remember i m i ve never known my bio dad and have only known my step dad but he never adopted me what do i do for that question on the form the po is saying i got to put bio dads info there but what if i don t have it'"
      ]
     },
     "execution_count": 50,
     "metadata": {},
     "output_type": "execute_result"
    }
   ],
   "source": [
    "missed_df.loc[142]['cleaned_post']"
   ]
  },
  {
   "cell_type": "code",
   "execution_count": 51,
   "metadata": {},
   "outputs": [],
   "source": [
    "tfidf_vec = gsLR.best_estimator_.steps[0][1]"
   ]
  },
  {
   "cell_type": "code",
   "execution_count": 52,
   "metadata": {},
   "outputs": [],
   "source": [
    "feature_names = gsLR.best_estimator_.steps[0][1].get_feature_names()"
   ]
  },
  {
   "cell_type": "code",
   "execution_count": 53,
   "metadata": {},
   "outputs": [],
   "source": [
    "lr_mod = gsLR.best_estimator_.steps[1][1]"
   ]
  },
  {
   "cell_type": "code",
   "execution_count": 54,
   "metadata": {},
   "outputs": [],
   "source": [
    "lr_coefs = lr_mod.coef_[0]"
   ]
  },
  {
   "cell_type": "code",
   "execution_count": 55,
   "metadata": {},
   "outputs": [
    {
     "name": "stdout",
     "output_type": "stream",
     "text": [
      "Check size of coefficients and features list match: coefs: 500, features: 500\n"
     ]
    }
   ],
   "source": [
    "print(f'Check size of coefficients and features list match: coefs: {len(lr_coefs)}, features: {len(feature_names)}')"
   ]
  },
  {
   "cell_type": "markdown",
   "metadata": {},
   "source": [
    "#### Interpreting Coefficients\n",
    "Create a dataframe to hold the coefficients for each feature, along with the odds of predicting a travel post given that feature appears in the post."
   ]
  },
  {
   "cell_type": "code",
   "execution_count": 56,
   "metadata": {},
   "outputs": [],
   "source": [
    "#Put the coeffs and the features in a dataframe\n",
    "word_weight_df = pd.DataFrame({'word_features':feature_names,\n",
    "                              'coefs':lr_coefs})\n",
    "word_weight_df = word_weight_df.sort_values('coefs')\n",
    "#Calculate the odds\n",
    "word_weight_df['odds'] =  word_weight_df['coefs'].map(lambda x: np.exp(x) )\n",
    "#Create a column to help explain the odds\n",
    "#If the odds re between 0 and 1, the post is (1/odds -1) times less likely to be a travel post\n",
    "#If the odss are greater than 1, the post is odds-1 times more likely to be a travel post\n",
    "word_weight_df['odds explainer'] = word_weight_df['odds'].map(lambda x: (1/x)-1 if x < 1 else x-1 )"
   ]
  },
  {
   "cell_type": "markdown",
   "metadata": {},
   "source": [
    "Look strongest predictors for r/travel are at highest positive values, at the tail of the dataframe. Let' look at the top 10."
   ]
  },
  {
   "cell_type": "code",
   "execution_count": 57,
   "metadata": {},
   "outputs": [
    {
     "data": {
      "text/html": [
       "<div>\n",
       "<style scoped>\n",
       "    .dataframe tbody tr th:only-of-type {\n",
       "        vertical-align: middle;\n",
       "    }\n",
       "\n",
       "    .dataframe tbody tr th {\n",
       "        vertical-align: top;\n",
       "    }\n",
       "\n",
       "    .dataframe thead th {\n",
       "        text-align: right;\n",
       "    }\n",
       "</style>\n",
       "<table border=\"1\" class=\"dataframe\">\n",
       "  <thead>\n",
       "    <tr style=\"text-align: right;\">\n",
       "      <th></th>\n",
       "      <th>word_features</th>\n",
       "      <th>coefs</th>\n",
       "      <th>odds</th>\n",
       "      <th>odds explainer</th>\n",
       "    </tr>\n",
       "  </thead>\n",
       "  <tbody>\n",
       "    <tr>\n",
       "      <th>403</th>\n",
       "      <td>stay</td>\n",
       "      <td>1.737507</td>\n",
       "      <td>5.683160</td>\n",
       "      <td>4.683160</td>\n",
       "    </tr>\n",
       "    <tr>\n",
       "      <th>86</th>\n",
       "      <td>country</td>\n",
       "      <td>1.816125</td>\n",
       "      <td>6.147987</td>\n",
       "      <td>5.147987</td>\n",
       "    </tr>\n",
       "    <tr>\n",
       "      <th>316</th>\n",
       "      <td>planning</td>\n",
       "      <td>1.866739</td>\n",
       "      <td>6.467170</td>\n",
       "      <td>5.467170</td>\n",
       "    </tr>\n",
       "    <tr>\n",
       "      <th>124</th>\n",
       "      <td>europe</td>\n",
       "      <td>1.918747</td>\n",
       "      <td>6.812416</td>\n",
       "      <td>5.812416</td>\n",
       "    </tr>\n",
       "    <tr>\n",
       "      <th>462</th>\n",
       "      <td>visa</td>\n",
       "      <td>1.931882</td>\n",
       "      <td>6.902490</td>\n",
       "      <td>5.902490</td>\n",
       "    </tr>\n",
       "    <tr>\n",
       "      <th>312</th>\n",
       "      <td>places</td>\n",
       "      <td>2.133818</td>\n",
       "      <td>8.447057</td>\n",
       "      <td>7.447057</td>\n",
       "    </tr>\n",
       "    <tr>\n",
       "      <th>444</th>\n",
       "      <td>traveling</td>\n",
       "      <td>2.205422</td>\n",
       "      <td>9.074079</td>\n",
       "      <td>8.074079</td>\n",
       "    </tr>\n",
       "    <tr>\n",
       "      <th>149</th>\n",
       "      <td>flight</td>\n",
       "      <td>3.017605</td>\n",
       "      <td>20.442277</td>\n",
       "      <td>19.442277</td>\n",
       "    </tr>\n",
       "    <tr>\n",
       "      <th>448</th>\n",
       "      <td>trip</td>\n",
       "      <td>3.306685</td>\n",
       "      <td>27.294482</td>\n",
       "      <td>26.294482</td>\n",
       "    </tr>\n",
       "    <tr>\n",
       "      <th>443</th>\n",
       "      <td>travel</td>\n",
       "      <td>3.480759</td>\n",
       "      <td>32.484379</td>\n",
       "      <td>31.484379</td>\n",
       "    </tr>\n",
       "  </tbody>\n",
       "</table>\n",
       "</div>"
      ],
      "text/plain": [
       "    word_features     coefs       odds  odds explainer\n",
       "403          stay  1.737507   5.683160        4.683160\n",
       "86        country  1.816125   6.147987        5.147987\n",
       "316      planning  1.866739   6.467170        5.467170\n",
       "124        europe  1.918747   6.812416        5.812416\n",
       "462          visa  1.931882   6.902490        5.902490\n",
       "312        places  2.133818   8.447057        7.447057\n",
       "444     traveling  2.205422   9.074079        8.074079\n",
       "149        flight  3.017605  20.442277       19.442277\n",
       "448          trip  3.306685  27.294482       26.294482\n",
       "443        travel  3.480759  32.484379       31.484379"
      ]
     },
     "execution_count": 57,
     "metadata": {},
     "output_type": "execute_result"
    }
   ],
   "source": [
    "word_weight_df.tail(10)"
   ]
  },
  {
   "cell_type": "markdown",
   "metadata": {},
   "source": [
    "The top ten predictors of a travel post certainly look like travel words. The number one predictor is the word 'travel' itself. If that appears in the post it is 31 times more likely to be in the travel thread. Likewise, if the word 'trip' appears in a post is it 26 times more likely to be in the travel post than if it did not appear. If the word 'flight' appears, it is 19 times more likely to be in travel, etc.. "
   ]
  },
  {
   "cell_type": "code",
   "execution_count": 58,
   "metadata": {},
   "outputs": [
    {
     "data": {
      "text/html": [
       "<div>\n",
       "<style scoped>\n",
       "    .dataframe tbody tr th:only-of-type {\n",
       "        vertical-align: middle;\n",
       "    }\n",
       "\n",
       "    .dataframe tbody tr th {\n",
       "        vertical-align: top;\n",
       "    }\n",
       "\n",
       "    .dataframe thead th {\n",
       "        text-align: right;\n",
       "    }\n",
       "</style>\n",
       "<table border=\"1\" class=\"dataframe\">\n",
       "  <thead>\n",
       "    <tr style=\"text-align: right;\">\n",
       "      <th></th>\n",
       "      <th>word_features</th>\n",
       "      <th>coefs</th>\n",
       "      <th>odds</th>\n",
       "      <th>odds explainer</th>\n",
       "    </tr>\n",
       "  </thead>\n",
       "  <tbody>\n",
       "    <tr>\n",
       "      <th>483</th>\n",
       "      <td>wine</td>\n",
       "      <td>-4.981654</td>\n",
       "      <td>0.006863</td>\n",
       "      <td>144.715262</td>\n",
       "    </tr>\n",
       "    <tr>\n",
       "      <th>45</th>\n",
       "      <td>bottle</td>\n",
       "      <td>-2.315388</td>\n",
       "      <td>0.098728</td>\n",
       "      <td>9.128855</td>\n",
       "    </tr>\n",
       "    <tr>\n",
       "      <th>179</th>\n",
       "      <td>gym</td>\n",
       "      <td>-2.044976</td>\n",
       "      <td>0.129383</td>\n",
       "      <td>6.728973</td>\n",
       "    </tr>\n",
       "    <tr>\n",
       "      <th>317</th>\n",
       "      <td>plant</td>\n",
       "      <td>-1.919387</td>\n",
       "      <td>0.146697</td>\n",
       "      <td>5.816780</td>\n",
       "    </tr>\n",
       "    <tr>\n",
       "      <th>484</th>\n",
       "      <td>wines</td>\n",
       "      <td>-1.814297</td>\n",
       "      <td>0.162952</td>\n",
       "      <td>5.136760</td>\n",
       "    </tr>\n",
       "    <tr>\n",
       "      <th>163</th>\n",
       "      <td>garden</td>\n",
       "      <td>-1.684489</td>\n",
       "      <td>0.185539</td>\n",
       "      <td>4.389699</td>\n",
       "    </tr>\n",
       "    <tr>\n",
       "      <th>490</th>\n",
       "      <td>workout</td>\n",
       "      <td>-1.519941</td>\n",
       "      <td>0.218725</td>\n",
       "      <td>3.571955</td>\n",
       "    </tr>\n",
       "    <tr>\n",
       "      <th>476</th>\n",
       "      <td>weight</td>\n",
       "      <td>-1.471567</td>\n",
       "      <td>0.229565</td>\n",
       "      <td>3.356057</td>\n",
       "    </tr>\n",
       "    <tr>\n",
       "      <th>418</th>\n",
       "      <td>tasting</td>\n",
       "      <td>-1.372867</td>\n",
       "      <td>0.253379</td>\n",
       "      <td>2.946650</td>\n",
       "    </tr>\n",
       "    <tr>\n",
       "      <th>384</th>\n",
       "      <td>soil</td>\n",
       "      <td>-1.272236</td>\n",
       "      <td>0.280204</td>\n",
       "      <td>2.568824</td>\n",
       "    </tr>\n",
       "  </tbody>\n",
       "</table>\n",
       "</div>"
      ],
      "text/plain": [
       "    word_features     coefs      odds  odds explainer\n",
       "483          wine -4.981654  0.006863      144.715262\n",
       "45         bottle -2.315388  0.098728        9.128855\n",
       "179           gym -2.044976  0.129383        6.728973\n",
       "317         plant -1.919387  0.146697        5.816780\n",
       "484         wines -1.814297  0.162952        5.136760\n",
       "163        garden -1.684489  0.185539        4.389699\n",
       "490       workout -1.519941  0.218725        3.571955\n",
       "476        weight -1.471567  0.229565        3.356057\n",
       "418       tasting -1.372867  0.253379        2.946650\n",
       "384          soil -1.272236  0.280204        2.568824"
      ]
     },
     "execution_count": 58,
     "metadata": {},
     "output_type": "execute_result"
    }
   ],
   "source": [
    "word_weight_df.head(10)"
   ]
  },
  {
   "cell_type": "markdown",
   "metadata": {},
   "source": [
    "The top ten words that lead us to classify a post as not travel are the negative coefficients at the top of the dataframe. If the word wine appears in a post is it 114 times less likely to be in the travel post than if it did not appear. If the word gym appears, it is 6 times less likely to be in travel, etc.. "
   ]
  },
  {
   "cell_type": "code",
   "execution_count": 59,
   "metadata": {},
   "outputs": [
    {
     "data": {
      "text/html": [
       "<div>\n",
       "<style scoped>\n",
       "    .dataframe tbody tr th:only-of-type {\n",
       "        vertical-align: middle;\n",
       "    }\n",
       "\n",
       "    .dataframe tbody tr th {\n",
       "        vertical-align: top;\n",
       "    }\n",
       "\n",
       "    .dataframe thead th {\n",
       "        text-align: right;\n",
       "    }\n",
       "</style>\n",
       "<table border=\"1\" class=\"dataframe\">\n",
       "  <thead>\n",
       "    <tr style=\"text-align: right;\">\n",
       "      <th></th>\n",
       "      <th>Coefficients</th>\n",
       "    </tr>\n",
       "    <tr>\n",
       "      <th>Features</th>\n",
       "      <th></th>\n",
       "    </tr>\n",
       "  </thead>\n",
       "  <tbody>\n",
       "    <tr>\n",
       "      <th>travel</th>\n",
       "      <td>3.48076</td>\n",
       "    </tr>\n",
       "    <tr>\n",
       "      <th>trip</th>\n",
       "      <td>3.30668</td>\n",
       "    </tr>\n",
       "    <tr>\n",
       "      <th>flight</th>\n",
       "      <td>3.01761</td>\n",
       "    </tr>\n",
       "    <tr>\n",
       "      <th>traveling</th>\n",
       "      <td>2.20542</td>\n",
       "    </tr>\n",
       "    <tr>\n",
       "      <th>places</th>\n",
       "      <td>2.13382</td>\n",
       "    </tr>\n",
       "    <tr>\n",
       "      <th>visa</th>\n",
       "      <td>1.93188</td>\n",
       "    </tr>\n",
       "    <tr>\n",
       "      <th>europe</th>\n",
       "      <td>1.91875</td>\n",
       "    </tr>\n",
       "    <tr>\n",
       "      <th>planning</th>\n",
       "      <td>1.86674</td>\n",
       "    </tr>\n",
       "    <tr>\n",
       "      <th>country</th>\n",
       "      <td>1.81612</td>\n",
       "    </tr>\n",
       "    <tr>\n",
       "      <th>stay</th>\n",
       "      <td>1.73751</td>\n",
       "    </tr>\n",
       "  </tbody>\n",
       "</table>\n",
       "</div>"
      ],
      "text/plain": [
       "          Coefficients\n",
       "Features              \n",
       "travel         3.48076\n",
       "trip           3.30668\n",
       "flight         3.01761\n",
       "traveling      2.20542\n",
       "places         2.13382\n",
       "visa           1.93188\n",
       "europe         1.91875\n",
       "planning       1.86674\n",
       "country        1.81612\n",
       "stay           1.73751"
      ]
     },
     "execution_count": 59,
     "metadata": {},
     "output_type": "execute_result"
    }
   ],
   "source": [
    "#Extract the coefficients for each variable and sor by abs val visuallize the predictive value of each\n",
    "##This code adapted from a sample provided by from James Hampton, and modified by Mark \n",
    "coef_df = pd.DataFrame([lr_coefs, feature_names], index = ['Coefficients', 'Features']).T\n",
    "coef_df = coef_df.set_index('Features')\n",
    "#coef_df['Coefficients'] = np.abs(coef_df['Coefficients'])\n",
    "coef_df = coef_df.sort_values(by='Coefficients',ascending=False)\n",
    "coef_df.head(10)"
   ]
  },
  {
   "cell_type": "code",
   "execution_count": 60,
   "metadata": {},
   "outputs": [
    {
     "data": {
      "text/plain": [
       "Text(0.5, 0, 'Strenth of Predictor')"
      ]
     },
     "execution_count": 60,
     "metadata": {},
     "output_type": "execute_result"
    },
    {
     "data": {
      "image/png": "[encoded data removed]",
      "text/plain": [
       "<Figure size 432x288 with 1 Axes>"
      ]
     },
     "metadata": {
      "needs_background": "light"
     },
     "output_type": "display_data"
    }
   ],
   "source": [
    "plt.barh(y=coef_df.index[:10], width=coef_df['Coefficients'][:10]);\n",
    "plt.title('Strongest Predictors of r/travel')\n",
    "plt.xlabel('Strenth of Predictor')"
   ]
  },
  {
   "cell_type": "code",
   "execution_count": 61,
   "metadata": {},
   "outputs": [
    {
     "data": {
      "text/plain": [
       "(500, 1)"
      ]
     },
     "execution_count": 61,
     "metadata": {},
     "output_type": "execute_result"
    }
   ],
   "source": [
    "coef_df.shape"
   ]
  },
  {
   "cell_type": "code",
   "execution_count": 62,
   "metadata": {},
   "outputs": [
    {
     "data": {
      "text/plain": [
       "490"
      ]
     },
     "execution_count": 62,
     "metadata": {},
     "output_type": "execute_result"
    }
   ],
   "source": [
    "start = coef_df.shape[0] - 10\n",
    "start"
   ]
  },
  {
   "cell_type": "code",
   "execution_count": 63,
   "metadata": {},
   "outputs": [
    {
     "data": {
      "text/plain": [
       "Text(0.5, 0, 'Strenth of Predictor')"
      ]
     },
     "execution_count": 63,
     "metadata": {},
     "output_type": "execute_result"
    },
    {
     "data": {
      "image/png": "[encoded data removed]",
      "text/plain": [
       "<Figure size 432x288 with 1 Axes>"
      ]
     },
     "metadata": {
      "needs_background": "light"
     },
     "output_type": "display_data"
    }
   ],
   "source": [
    "plt.barh(y=coef_df.index[start:], width=coef_df['Coefficients'][start:]);\n",
    "plt.title('Strongest Predictor of not r/travel')\n",
    "plt.xlabel('Strenth of Predictor')"
   ]
  },
  {
   "cell_type": "markdown",
   "metadata": {},
   "source": [
    "<a id='section__Conclusion'></a>\n",
    "\n",
    "### Conclusion\n",
    "\n",
    "The model successfully classifies  r/travel, and not r/travel, with a 96% of the time!!!\n",
    "This is not surprising, though. These topics have very distinguishing words. It may have been much harder with more similar threads.\n",
    "It DOES do a good job of illustrating the classification techniques and the modeling process. \n",
    "Recommendation: DO HIRE DATA SCIENTISTS!!!!\n",
    "\n",
    "[back to top](#section__top)\n"
   ]
  }
 ],
 "metadata": {
  "kernelspec": {
   "display_name": "Python [conda env:root]",
   "language": "python",
   "name": "conda-root-py"
  },
  "language_info": {
   "codemirror_mode": {
    "name": "ipython",
    "version": 3
   },
   "file_extension": ".py",
   "mimetype": "text/x-python",
   "name": "python",
   "nbconvert_exporter": "python",
   "pygments_lexer": "ipython3",
   "version": "3.6.8"
  }
 },
 "nbformat": 4,
 "nbformat_minor": 2
}
