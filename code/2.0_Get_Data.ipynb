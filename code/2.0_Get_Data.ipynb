{
 "cells": [
  {
   "cell_type": "markdown",
   "metadata": {},
   "source": [
    "<a id=\"section__top\"></a>\n",
    "\n",
    "# Project  3 - Subreddit Classifier\n",
    "## Get Data\n",
    "General Assembly DSI CC7 Project 3\n",
    "<br>Anne Kerr - SF<br>\n",
    "Due April 5, 2019\n",
    "#### Notebook Overview\n",
    "This notebook contains the steps to gather data from reddit. I selected four subreddits from which to gather data. The goal of the project is to create a model that will predict from which subreddit a post belongs. We will use at least two of the four subreddits in the project, but I wanted to gather data from four so I would have a lot of data with which to work. I chose some of my favorite topics: Travel, Fitness, Gardening, and Wine,\n",
    "\n",
    "\n",
    "\n",
    "#### Approach \n",
    "I used the reddit api to request the posts. The data comes back in json form. After exploring the data I decided to save eight data elements from the returned values. They are:\n",
    "\n",
    "\n",
    "|Data Element|Description|\n",
    "|-------|----------|\n",
    "| subreddit | Name of the subreddit, e.g., 'travel', 'fitness', gardening, 'wine' |\n",
    "| id | Unique identier of post |\n",
    "| selftext| The text of the post. Not all posts have text. Some are only images or videos. For this project only post with text were collected  |\n",
    "| title | Post Title |\n",
    "| author | Reddit ID of author |\n",
    "| created | Date the post was created |\n",
    "| ups | Number of up votes the post has recevied |\n",
    "| downs | Number of down votes the post has receivd |\n",
    "\n",
    "###### RedditPostReader\n",
    "\n",
    "To handle the interaction with reddit I defined a class called RedditPostReader, and included it in a file called reddit_posts.py. A copy of the code is included at the end of this notepbook, and the code is included in the code folder of the project. Once you instantiate the class you call the gather_posts() method, passing a url and the desired number of posts to gather. The method only gathers posts with non-empty selftext values. It returns a Pandas DataFrame with the n most recent posts.\n",
    "\n",
    "This notebook iterates over the list of subreddits of interest and builds a list of DataFrame objects, one for each subreddit. These are saved to disk for archiving. They are then concatenated together, duplicates are dropped, and the combined final DataFrame is stored to disk, and saved to SQL. (Note: as of this version the SQL connection is failing. This needs to be debugged. The code is left in, but commented out so no errors appear.\n",
    "                        "
   ]
  },
  {
   "cell_type": "code",
   "execution_count": 1,
   "metadata": {},
   "outputs": [],
   "source": [
    "import pandas as np\n",
    "from reddit_posts import *"
   ]
  },
  {
   "cell_type": "code",
   "execution_count": 2,
   "metadata": {},
   "outputs": [
    {
     "data": {
      "text/plain": [
       "'201920194419162896'"
      ]
     },
     "execution_count": 2,
     "metadata": {},
     "output_type": "execute_result"
    }
   ],
   "source": [
    "import datetime\n",
    "now = datetime.datetime.now()\n",
    "current_time_stamp = f'{now.year}'\n",
    "current_time_stamp += f'{now.year}'\n",
    "current_time_stamp += f'{now.month}'\n",
    "current_time_stamp += f'{now.day}'\n",
    "current_time_stamp += f'{now.second}'\n",
    "current_time_stamp += f'{now.microsecond}'\n",
    "current_time_stamp"
   ]
  },
  {
   "cell_type": "markdown",
   "metadata": {},
   "source": [
    "###### Define subreddits to process"
   ]
  },
  {
   "cell_type": "code",
   "execution_count": 3,
   "metadata": {},
   "outputs": [],
   "source": [
    "subreddits = ['travel', 'fitness', 'gardening', 'wine']"
   ]
  },
  {
   "cell_type": "markdown",
   "metadata": {},
   "source": [
    "###### RedditPostReader\n",
    "Instantiate an instance of the RedditPostReader class"
   ]
  },
  {
   "cell_type": "code",
   "execution_count": 4,
   "metadata": {},
   "outputs": [],
   "source": [
    "r = RedditPostReader()"
   ]
  },
  {
   "cell_type": "markdown",
   "metadata": {},
   "source": [
    "Function to call the gather_posts() method for each of the subreddits of interest."
   ]
  },
  {
   "cell_type": "code",
   "execution_count": 5,
   "metadata": {},
   "outputs": [],
   "source": [
    "def get_posts(n=2000):\n",
    "    posts = []\n",
    "    for i in range(len(subreddits)):\n",
    "        sr = subreddits[i]\n",
    "        url = f'https://www.reddit.com/r/{sr}.json'\n",
    "        df = r.gather_posts(url,n)\n",
    "        posts.append(df)\n",
    "        filename = f'../data/{sr}_posts{current_time_stamp}.csv' \n",
    "        df.to_csv(filename, index=False)\n",
    "        print(f'Gathered {n} posts from {sr}')\n",
    "    return posts"
   ]
  },
  {
   "cell_type": "markdown",
   "metadata": {},
   "source": [
    "Call the get_posts method. Earlier test have shown that the number of duplicate posts is quite high. After dropping duplicates we were let with fewer than 50% of our original number, and for some subreddits it was closer to 25%. To get more than 1000 non-duplicate posts to use for the model we will have to set the number to gather two or three times that. This takes quite a while to run, because it skips all the posts with emptly selftext, and continues to search until it has 2000 non-empty posts from each subreddit. Perhaps choosing different threads might have been easier, but this is a good challenge.\n",
    "\n",
    "A better approach may have been to iterate over the list of subreddits, using a more pythonic way to call the function. This can be improved in the next version. Since this works as is, I chose to leave it this way for now so I could go on to the EDA and Analysis steps.\n"
   ]
  },
  {
   "cell_type": "code",
   "execution_count": 6,
   "metadata": {},
   "outputs": [
    {
     "name": "stdout",
     "output_type": "stream",
     "text": [
      "Gathering posts from https://www.reddit.com/r/travel.json\n",
      "Gathered 500 posts so far\n",
      "Gathered 1000 posts so far\n",
      "Gathered 1011 posts\n",
      "skipped 233 posts with no selftext\n",
      "Gathered 1000 posts from travel\n",
      "Gathering posts from https://www.reddit.com/r/fitness.json\n",
      "Gathered 500 posts so far\n",
      "Gathered 1000 posts so far\n",
      "Gathered 1006 posts\n",
      "skipped 0 posts with no selftext\n",
      "Gathered 1000 posts from fitness\n",
      "Gathering posts from https://www.reddit.com/r/gardening.json\n",
      "Gathered 500 posts so far\n",
      "Gathered 1000 posts so far\n",
      "Gathered 1006 posts\n",
      "skipped 3551 posts with no selftext\n",
      "Gathered 1000 posts from gardening\n",
      "Gathering posts from https://www.reddit.com/r/wine.json\n",
      "Gathered 500 posts so far\n",
      "Gathered 1000 posts so far\n",
      "Gathered 1004 posts\n",
      "skipped 1005 posts with no selftext\n",
      "Gathered 1000 posts from wine\n"
     ]
    }
   ],
   "source": [
    "post_df_list = get_posts(1000)"
   ]
  },
  {
   "cell_type": "markdown",
   "metadata": {},
   "source": [
    "Now that we have finished gatherig the posts, let's check the dataframes to see that we got what we intended."
   ]
  },
  {
   "cell_type": "code",
   "execution_count": 7,
   "metadata": {},
   "outputs": [],
   "source": [
    "def check_posts():\n",
    "    for i in range(len(subreddits)):\n",
    "        sr = subreddits[i]\n",
    "        df = post_df_list[i]  \n",
    "        print(f'Shape of {sr} DataFrame: {df.shape}')\n"
   ]
  },
  {
   "cell_type": "code",
   "execution_count": 8,
   "metadata": {},
   "outputs": [
    {
     "name": "stdout",
     "output_type": "stream",
     "text": [
      "Shape of travel DataFrame: (1011, 8)\n",
      "Shape of fitness DataFrame: (1006, 8)\n",
      "Shape of gardening DataFrame: (1006, 8)\n",
      "Shape of wine DataFrame: (1004, 8)\n"
     ]
    }
   ],
   "source": [
    "check_posts()"
   ]
  },
  {
   "cell_type": "code",
   "execution_count": 9,
   "metadata": {},
   "outputs": [],
   "source": [
    "df1 = post_df_list[0]\n",
    "df2 = post_df_list[1]\n",
    "df3 = post_df_list[2]\n",
    "df4 = post_df_list[3]\n"
   ]
  },
  {
   "cell_type": "code",
   "execution_count": 10,
   "metadata": {},
   "outputs": [
    {
     "data": {
      "text/html": [
       "<div>\n",
       "<style scoped>\n",
       "    .dataframe tbody tr th:only-of-type {\n",
       "        vertical-align: middle;\n",
       "    }\n",
       "\n",
       "    .dataframe tbody tr th {\n",
       "        vertical-align: top;\n",
       "    }\n",
       "\n",
       "    .dataframe thead th {\n",
       "        text-align: right;\n",
       "    }\n",
       "</style>\n",
       "<table border=\"1\" class=\"dataframe\">\n",
       "  <thead>\n",
       "    <tr style=\"text-align: right;\">\n",
       "      <th></th>\n",
       "      <th>subreddit</th>\n",
       "      <th>id</th>\n",
       "      <th>selftext</th>\n",
       "      <th>title</th>\n",
       "      <th>author</th>\n",
       "      <th>created</th>\n",
       "      <th>ups</th>\n",
       "      <th>downs</th>\n",
       "    </tr>\n",
       "  </thead>\n",
       "  <tbody>\n",
       "    <tr>\n",
       "      <th>0</th>\n",
       "      <td>travel</td>\n",
       "      <td>b6i1po</td>\n",
       "      <td>Hey travellers!\\n \\nIn this weekly community d...</td>\n",
       "      <td>r/travel Topic of the Week: 'Action!'</td>\n",
       "      <td>AutoModerator</td>\n",
       "      <td>1.553775e+09</td>\n",
       "      <td>18</td>\n",
       "      <td>0</td>\n",
       "    </tr>\n",
       "    <tr>\n",
       "      <th>1</th>\n",
       "      <td>travel</td>\n",
       "      <td>b9avjb</td>\n",
       "      <td>Hi, I'm travelling to Orlando this summer with...</td>\n",
       "      <td>Travel cards or currency?</td>\n",
       "      <td>scottishguyhere</td>\n",
       "      <td>1.554372e+09</td>\n",
       "      <td>3</td>\n",
       "      <td>0</td>\n",
       "    </tr>\n",
       "    <tr>\n",
       "      <th>2</th>\n",
       "      <td>travel</td>\n",
       "      <td>b9bbtp</td>\n",
       "      <td>I’m aware that that if I exchange money at a l...</td>\n",
       "      <td>Question about exchange rates</td>\n",
       "      <td>KeydGV21</td>\n",
       "      <td>1.554376e+09</td>\n",
       "      <td>2</td>\n",
       "      <td>0</td>\n",
       "    </tr>\n",
       "    <tr>\n",
       "      <th>3</th>\n",
       "      <td>travel</td>\n",
       "      <td>b9b4f5</td>\n",
       "      <td>I am thinking of travelling to Sri Lanka but r...</td>\n",
       "      <td>Illegal for women to buy alcohol in Sri Lanka?</td>\n",
       "      <td>SecondAccount404</td>\n",
       "      <td>1.554374e+09</td>\n",
       "      <td>2</td>\n",
       "      <td>0</td>\n",
       "    </tr>\n",
       "    <tr>\n",
       "      <th>4</th>\n",
       "      <td>travel</td>\n",
       "      <td>b9bkmw</td>\n",
       "      <td>I will be in France on April 24th (release dat...</td>\n",
       "      <td>Doe as France dub American movies in French?</td>\n",
       "      <td>purplewhitewine</td>\n",
       "      <td>1.554378e+09</td>\n",
       "      <td>1</td>\n",
       "      <td>0</td>\n",
       "    </tr>\n",
       "  </tbody>\n",
       "</table>\n",
       "</div>"
      ],
      "text/plain": [
       "  subreddit      id                                           selftext  \\\n",
       "0    travel  b6i1po  Hey travellers!\\n \\nIn this weekly community d...   \n",
       "1    travel  b9avjb  Hi, I'm travelling to Orlando this summer with...   \n",
       "2    travel  b9bbtp  I’m aware that that if I exchange money at a l...   \n",
       "3    travel  b9b4f5  I am thinking of travelling to Sri Lanka but r...   \n",
       "4    travel  b9bkmw  I will be in France on April 24th (release dat...   \n",
       "\n",
       "                                            title            author  \\\n",
       "0           r/travel Topic of the Week: 'Action!'     AutoModerator   \n",
       "1                       Travel cards or currency?   scottishguyhere   \n",
       "2                   Question about exchange rates          KeydGV21   \n",
       "3  Illegal for women to buy alcohol in Sri Lanka?  SecondAccount404   \n",
       "4    Doe as France dub American movies in French?   purplewhitewine   \n",
       "\n",
       "        created ups downs  \n",
       "0  1.553775e+09  18     0  \n",
       "1  1.554372e+09   3     0  \n",
       "2  1.554376e+09   2     0  \n",
       "3  1.554374e+09   2     0  \n",
       "4  1.554378e+09   1     0  "
      ]
     },
     "execution_count": 10,
     "metadata": {},
     "output_type": "execute_result"
    }
   ],
   "source": [
    "df1.head()\n"
   ]
  },
  {
   "cell_type": "code",
   "execution_count": 11,
   "metadata": {},
   "outputs": [
    {
     "data": {
      "text/html": [
       "<div>\n",
       "<style scoped>\n",
       "    .dataframe tbody tr th:only-of-type {\n",
       "        vertical-align: middle;\n",
       "    }\n",
       "\n",
       "    .dataframe tbody tr th {\n",
       "        vertical-align: top;\n",
       "    }\n",
       "\n",
       "    .dataframe thead th {\n",
       "        text-align: right;\n",
       "    }\n",
       "</style>\n",
       "<table border=\"1\" class=\"dataframe\">\n",
       "  <thead>\n",
       "    <tr style=\"text-align: right;\">\n",
       "      <th></th>\n",
       "      <th>subreddit</th>\n",
       "      <th>id</th>\n",
       "      <th>selftext</th>\n",
       "      <th>title</th>\n",
       "      <th>author</th>\n",
       "      <th>created</th>\n",
       "      <th>ups</th>\n",
       "      <th>downs</th>\n",
       "    </tr>\n",
       "  </thead>\n",
       "  <tbody>\n",
       "    <tr>\n",
       "      <th>0</th>\n",
       "      <td>Fitness</td>\n",
       "      <td>b5d3q4</td>\n",
       "      <td>Howdy!\\n\\nWelcome to r/Fitness Community Campf...</td>\n",
       "      <td>Community Campfire: Eating Less Sugar and Junk...</td>\n",
       "      <td>purplespengler</td>\n",
       "      <td>1.553533e+09</td>\n",
       "      <td>153</td>\n",
       "      <td>0</td>\n",
       "    </tr>\n",
       "    <tr>\n",
       "      <th>1</th>\n",
       "      <td>Fitness</td>\n",
       "      <td>b9aufw</td>\n",
       "      <td>Welcome to the /r/Fitness Daily Simple Questio...</td>\n",
       "      <td>Daily Simple Questions Thread - April 04, 2019</td>\n",
       "      <td>AutoModerator</td>\n",
       "      <td>1.554372e+09</td>\n",
       "      <td>4</td>\n",
       "      <td>0</td>\n",
       "    </tr>\n",
       "    <tr>\n",
       "      <th>2</th>\n",
       "      <td>Fitness</td>\n",
       "      <td>b94tak</td>\n",
       "      <td>I am 25 years old 6'7\" 250lb 20% body fat. I h...</td>\n",
       "      <td>Should heavy people run?</td>\n",
       "      <td>pastathehoagie</td>\n",
       "      <td>1.554331e+09</td>\n",
       "      <td>844</td>\n",
       "      <td>0</td>\n",
       "    </tr>\n",
       "    <tr>\n",
       "      <th>3</th>\n",
       "      <td>Fitness</td>\n",
       "      <td>b92zqz</td>\n",
       "      <td>With all the recent news about it here I wante...</td>\n",
       "      <td>Do the performance benefits of coffee only com...</td>\n",
       "      <td>Work1Work2Work3</td>\n",
       "      <td>1.554322e+09</td>\n",
       "      <td>125</td>\n",
       "      <td>0</td>\n",
       "    </tr>\n",
       "    <tr>\n",
       "      <th>4</th>\n",
       "      <td>Fitness</td>\n",
       "      <td>b8w0kq</td>\n",
       "      <td>Welcome to Rant Wednesday: It's your time to l...</td>\n",
       "      <td>Rant Wednesday</td>\n",
       "      <td>AutoModerator</td>\n",
       "      <td>1.554286e+09</td>\n",
       "      <td>682</td>\n",
       "      <td>0</td>\n",
       "    </tr>\n",
       "  </tbody>\n",
       "</table>\n",
       "</div>"
      ],
      "text/plain": [
       "  subreddit      id                                           selftext  \\\n",
       "0   Fitness  b5d3q4  Howdy!\\n\\nWelcome to r/Fitness Community Campf...   \n",
       "1   Fitness  b9aufw  Welcome to the /r/Fitness Daily Simple Questio...   \n",
       "2   Fitness  b94tak  I am 25 years old 6'7\" 250lb 20% body fat. I h...   \n",
       "3   Fitness  b92zqz  With all the recent news about it here I wante...   \n",
       "4   Fitness  b8w0kq  Welcome to Rant Wednesday: It's your time to l...   \n",
       "\n",
       "                                               title           author  \\\n",
       "0  Community Campfire: Eating Less Sugar and Junk...   purplespengler   \n",
       "1     Daily Simple Questions Thread - April 04, 2019    AutoModerator   \n",
       "2                           Should heavy people run?   pastathehoagie   \n",
       "3  Do the performance benefits of coffee only com...  Work1Work2Work3   \n",
       "4                                     Rant Wednesday    AutoModerator   \n",
       "\n",
       "        created  ups downs  \n",
       "0  1.553533e+09  153     0  \n",
       "1  1.554372e+09    4     0  \n",
       "2  1.554331e+09  844     0  \n",
       "3  1.554322e+09  125     0  \n",
       "4  1.554286e+09  682     0  "
      ]
     },
     "execution_count": 11,
     "metadata": {},
     "output_type": "execute_result"
    }
   ],
   "source": [
    "df2.head()"
   ]
  },
  {
   "cell_type": "code",
   "execution_count": 12,
   "metadata": {},
   "outputs": [
    {
     "data": {
      "text/html": [
       "<div>\n",
       "<style scoped>\n",
       "    .dataframe tbody tr th:only-of-type {\n",
       "        vertical-align: middle;\n",
       "    }\n",
       "\n",
       "    .dataframe tbody tr th {\n",
       "        vertical-align: top;\n",
       "    }\n",
       "\n",
       "    .dataframe thead th {\n",
       "        text-align: right;\n",
       "    }\n",
       "</style>\n",
       "<table border=\"1\" class=\"dataframe\">\n",
       "  <thead>\n",
       "    <tr style=\"text-align: right;\">\n",
       "      <th></th>\n",
       "      <th>subreddit</th>\n",
       "      <th>id</th>\n",
       "      <th>selftext</th>\n",
       "      <th>title</th>\n",
       "      <th>author</th>\n",
       "      <th>created</th>\n",
       "      <th>ups</th>\n",
       "      <th>downs</th>\n",
       "    </tr>\n",
       "  </thead>\n",
       "  <tbody>\n",
       "    <tr>\n",
       "      <th>0</th>\n",
       "      <td>gardening</td>\n",
       "      <td>b6x29k</td>\n",
       "      <td>This is the Friendly Friday Thread.  \\n\\nNegat...</td>\n",
       "      <td>Friendly Friday Thread</td>\n",
       "      <td>AutoModerator</td>\n",
       "      <td>1.553865e+09</td>\n",
       "      <td>18</td>\n",
       "      <td>0</td>\n",
       "    </tr>\n",
       "    <tr>\n",
       "      <th>1</th>\n",
       "      <td>gardening</td>\n",
       "      <td>b99ocn</td>\n",
       "      <td>I haven't left my bedroom in 2 weeks apart fro...</td>\n",
       "      <td>I've got a Peace Lily growing in the corner of...</td>\n",
       "      <td>SplashBandicoot</td>\n",
       "      <td>1.554363e+09</td>\n",
       "      <td>3</td>\n",
       "      <td>0</td>\n",
       "    </tr>\n",
       "    <tr>\n",
       "      <th>2</th>\n",
       "      <td>gardening</td>\n",
       "      <td>b98wc3</td>\n",
       "      <td>Now that spring has arrived (more or less), it...</td>\n",
       "      <td>Favorite Spray Nozzle</td>\n",
       "      <td>Fleemo17</td>\n",
       "      <td>1.554357e+09</td>\n",
       "      <td>3</td>\n",
       "      <td>0</td>\n",
       "    </tr>\n",
       "    <tr>\n",
       "      <th>3</th>\n",
       "      <td>gardening</td>\n",
       "      <td>b99f7a</td>\n",
       "      <td>I inherited some irises and I put them in betw...</td>\n",
       "      <td>Irises and blackberries help</td>\n",
       "      <td>kd5tdu</td>\n",
       "      <td>1.554361e+09</td>\n",
       "      <td>2</td>\n",
       "      <td>0</td>\n",
       "    </tr>\n",
       "    <tr>\n",
       "      <th>4</th>\n",
       "      <td>gardening</td>\n",
       "      <td>b97hqr</td>\n",
       "      <td>I have some questions regarding mulching that ...</td>\n",
       "      <td>How to mulch? And other questions.</td>\n",
       "      <td>Writer_A</td>\n",
       "      <td>1.554347e+09</td>\n",
       "      <td>3</td>\n",
       "      <td>0</td>\n",
       "    </tr>\n",
       "  </tbody>\n",
       "</table>\n",
       "</div>"
      ],
      "text/plain": [
       "   subreddit      id                                           selftext  \\\n",
       "0  gardening  b6x29k  This is the Friendly Friday Thread.  \\n\\nNegat...   \n",
       "1  gardening  b99ocn  I haven't left my bedroom in 2 weeks apart fro...   \n",
       "2  gardening  b98wc3  Now that spring has arrived (more or less), it...   \n",
       "3  gardening  b99f7a  I inherited some irises and I put them in betw...   \n",
       "4  gardening  b97hqr  I have some questions regarding mulching that ...   \n",
       "\n",
       "                                               title           author  \\\n",
       "0                             Friendly Friday Thread    AutoModerator   \n",
       "1  I've got a Peace Lily growing in the corner of...  SplashBandicoot   \n",
       "2                              Favorite Spray Nozzle         Fleemo17   \n",
       "3                       Irises and blackberries help           kd5tdu   \n",
       "4                 How to mulch? And other questions.         Writer_A   \n",
       "\n",
       "        created ups downs  \n",
       "0  1.553865e+09  18     0  \n",
       "1  1.554363e+09   3     0  \n",
       "2  1.554357e+09   3     0  \n",
       "3  1.554361e+09   2     0  \n",
       "4  1.554347e+09   3     0  "
      ]
     },
     "execution_count": 12,
     "metadata": {},
     "output_type": "execute_result"
    }
   ],
   "source": [
    "df3.head()"
   ]
  },
  {
   "cell_type": "code",
   "execution_count": 13,
   "metadata": {},
   "outputs": [
    {
     "data": {
      "text/html": [
       "<div>\n",
       "<style scoped>\n",
       "    .dataframe tbody tr th:only-of-type {\n",
       "        vertical-align: middle;\n",
       "    }\n",
       "\n",
       "    .dataframe tbody tr th {\n",
       "        vertical-align: top;\n",
       "    }\n",
       "\n",
       "    .dataframe thead th {\n",
       "        text-align: right;\n",
       "    }\n",
       "</style>\n",
       "<table border=\"1\" class=\"dataframe\">\n",
       "  <thead>\n",
       "    <tr style=\"text-align: right;\">\n",
       "      <th></th>\n",
       "      <th>subreddit</th>\n",
       "      <th>id</th>\n",
       "      <th>selftext</th>\n",
       "      <th>title</th>\n",
       "      <th>author</th>\n",
       "      <th>created</th>\n",
       "      <th>ups</th>\n",
       "      <th>downs</th>\n",
       "    </tr>\n",
       "  </thead>\n",
       "  <tbody>\n",
       "    <tr>\n",
       "      <th>0</th>\n",
       "      <td>wine</td>\n",
       "      <td>b6xh6l</td>\n",
       "      <td>Bottle porn without notes, random musings, off...</td>\n",
       "      <td>Free Talk Friday</td>\n",
       "      <td>CondorKhan</td>\n",
       "      <td>1.553867e+09</td>\n",
       "      <td>9</td>\n",
       "      <td>0</td>\n",
       "    </tr>\n",
       "    <tr>\n",
       "      <th>1</th>\n",
       "      <td>wine</td>\n",
       "      <td>b89vf2</td>\n",
       "      <td>Hi Everyone, so here we are at our April chall...</td>\n",
       "      <td>**Monthly Wine Challenge - April 2019 Selectio...</td>\n",
       "      <td>PhoenixRising20</td>\n",
       "      <td>1.554156e+09</td>\n",
       "      <td>9</td>\n",
       "      <td>0</td>\n",
       "    </tr>\n",
       "    <tr>\n",
       "      <th>2</th>\n",
       "      <td>wine</td>\n",
       "      <td>b995ws</td>\n",
       "      <td>i just opened a bottle of port, and I have bas...</td>\n",
       "      <td>what do you with wine you don't like ?</td>\n",
       "      <td>Maximilianne</td>\n",
       "      <td>1.554359e+09</td>\n",
       "      <td>2</td>\n",
       "      <td>0</td>\n",
       "    </tr>\n",
       "    <tr>\n",
       "      <th>3</th>\n",
       "      <td>wine</td>\n",
       "      <td>b97ggk</td>\n",
       "      <td>My friend decided not to go anymore so I have ...</td>\n",
       "      <td>Extra general admission ticket to Wine Spectat...</td>\n",
       "      <td>aparice</td>\n",
       "      <td>1.554347e+09</td>\n",
       "      <td>2</td>\n",
       "      <td>0</td>\n",
       "    </tr>\n",
       "    <tr>\n",
       "      <th>4</th>\n",
       "      <td>wine</td>\n",
       "      <td>b8yvdy</td>\n",
       "      <td>My wife and I are traveling with friends to Na...</td>\n",
       "      <td>Napa Valley Recommendations</td>\n",
       "      <td>Yoko_Loco</td>\n",
       "      <td>1.554303e+09</td>\n",
       "      <td>8</td>\n",
       "      <td>0</td>\n",
       "    </tr>\n",
       "  </tbody>\n",
       "</table>\n",
       "</div>"
      ],
      "text/plain": [
       "  subreddit      id                                           selftext  \\\n",
       "0      wine  b6xh6l  Bottle porn without notes, random musings, off...   \n",
       "1      wine  b89vf2  Hi Everyone, so here we are at our April chall...   \n",
       "2      wine  b995ws  i just opened a bottle of port, and I have bas...   \n",
       "3      wine  b97ggk  My friend decided not to go anymore so I have ...   \n",
       "4      wine  b8yvdy  My wife and I are traveling with friends to Na...   \n",
       "\n",
       "                                               title           author  \\\n",
       "0                                   Free Talk Friday       CondorKhan   \n",
       "1  **Monthly Wine Challenge - April 2019 Selectio...  PhoenixRising20   \n",
       "2             what do you with wine you don't like ?     Maximilianne   \n",
       "3  Extra general admission ticket to Wine Spectat...          aparice   \n",
       "4                        Napa Valley Recommendations        Yoko_Loco   \n",
       "\n",
       "        created ups downs  \n",
       "0  1.553867e+09   9     0  \n",
       "1  1.554156e+09   9     0  \n",
       "2  1.554359e+09   2     0  \n",
       "3  1.554347e+09   2     0  \n",
       "4  1.554303e+09   8     0  "
      ]
     },
     "execution_count": 13,
     "metadata": {},
     "output_type": "execute_result"
    }
   ],
   "source": [
    "df4.head()"
   ]
  },
  {
   "cell_type": "markdown",
   "metadata": {},
   "source": [
    "#### Post processing\n",
    "Concatenate the datasets into one dataframe\n",
    "Drop duplicates\n",
    "Save to disk for archival purposes\n",
    "Write to postgres database"
   ]
  },
  {
   "cell_type": "code",
   "execution_count": 14,
   "metadata": {},
   "outputs": [
    {
     "data": {
      "text/plain": [
       "(4027, 8)"
      ]
     },
     "execution_count": 14,
     "metadata": {},
     "output_type": "execute_result"
    }
   ],
   "source": [
    "dfall = pd.concat(post_df_list)\n",
    "dfall.shape"
   ]
  },
  {
   "cell_type": "markdown",
   "metadata": {},
   "source": [
    "Check for duplicates"
   ]
  },
  {
   "cell_type": "code",
   "execution_count": 15,
   "metadata": {},
   "outputs": [
    {
     "data": {
      "text/plain": [
       "(1800, 8)"
      ]
     },
     "execution_count": 15,
     "metadata": {},
     "output_type": "execute_result"
    }
   ],
   "source": [
    "dfall.drop_duplicates(subset=['subreddit', 'id', 'title', 'author']).shape"
   ]
  },
  {
   "cell_type": "code",
   "execution_count": 16,
   "metadata": {},
   "outputs": [
    {
     "data": {
      "text/plain": [
       "travel       1011\n",
       "Fitness      1006\n",
       "gardening    1006\n",
       "wine         1004\n",
       "Name: subreddit, dtype: int64"
      ]
     },
     "execution_count": 16,
     "metadata": {},
     "output_type": "execute_result"
    }
   ],
   "source": [
    "dfall.subreddit.value_counts()"
   ]
  },
  {
   "cell_type": "markdown",
   "metadata": {},
   "source": [
    "There are quite a few. Visual inspection of the data confirmed they are duplicates, so we will go ahead and drop them here. Further investigation may need to be done to understand if this is just an artifact of the reddit API, or if there is something I can change in the class to prevent this, For now, we will just drop the duplicates."
   ]
  },
  {
   "cell_type": "code",
   "execution_count": 17,
   "metadata": {},
   "outputs": [
    {
     "data": {
      "text/plain": [
       "(1800, 8)"
      ]
     },
     "execution_count": 17,
     "metadata": {},
     "output_type": "execute_result"
    }
   ],
   "source": [
    "dfall.drop_duplicates(subset=['subreddit', 'id', 'title', 'author'], inplace=True)\n",
    "dfall.shape"
   ]
  },
  {
   "cell_type": "markdown",
   "metadata": {},
   "source": [
    "Re-check the counts for each of the subreddits"
   ]
  },
  {
   "cell_type": "code",
   "execution_count": 18,
   "metadata": {},
   "outputs": [
    {
     "data": {
      "text/plain": [
       "travel       815\n",
       "wine         451\n",
       "Fitness      318\n",
       "gardening    216\n",
       "Name: subreddit, dtype: int64"
      ]
     },
     "execution_count": 18,
     "metadata": {},
     "output_type": "execute_result"
    }
   ],
   "source": [
    "dfall.subreddit.value_counts()"
   ]
  },
  {
   "cell_type": "markdown",
   "metadata": {},
   "source": [
    "###### How many posts remain?"
   ]
  },
  {
   "cell_type": "markdown",
   "metadata": {},
   "source": [
    "#### Save the data\n",
    "\n",
    "Write the final combined file to csv, and also store it in a postres database running in an Amazon Web Services (AWS) instance."
   ]
  },
  {
   "cell_type": "code",
   "execution_count": 19,
   "metadata": {},
   "outputs": [],
   "source": [
    "dfall.to_csv(f'../data/final_posts_all{current_time_stamp}.csv', index=False)"
   ]
  },
  {
   "cell_type": "code",
   "execution_count": 20,
   "metadata": {},
   "outputs": [],
   "source": [
    "# import warnings;\n",
    "# warnings.simplefilter('ignore')\n",
    "\n",
    "# ##Note: The dns value changes with each AWS session.\n",
    "\n",
    "# dns = 'ec2-18-224-40-114.us-east-2.compute.amazonaws.com'\n",
    "\n",
    "# from pandas.io import sql\n",
    "# from sqlalchemy import create_engine\n",
    "\n",
    "# ###engine = create_engine(f'postgres://postgres:pass@{dns}')\n",
    "# engine = create_engine(f'postgres://postgres:Letmeinplease00@{dns}')\n",
    "\n",
    "# table_name = 'reddit_posts'\n",
    "\n",
    "\n",
    "# dfall.to_sql('table_name',con=engine,index=False, if_exists='replace')"
   ]
  },
  {
   "cell_type": "markdown",
   "metadata": {},
   "source": [
    "#### On to analysis\n",
    "\n",
    "Having completed the data gathering phase, we can move on to notebook 3 for EDA and Analysis.\n"
   ]
  },
  {
   "cell_type": "markdown",
   "metadata": {},
   "source": [
    "###### Source code for the RedditPostReader class\n",
    "\n",
    "```\n",
    "\n",
    "import requests\n",
    "import time\n",
    "import pandas as pd\n",
    "import numpy as np\n",
    "import warnings\n",
    "\n",
    "class RedditPostReader:\n",
    "    header = {'user-agent': 'anne'}\n",
    "    post_cols = ['subreddit', 'id', 'selftext', 'title', 'author', 'created', 'ups', 'downs']\n",
    "  \n",
    "    post_count = 0\n",
    "    url=''\n",
    "   \n",
    "    def __init__(self):\n",
    "         pass\n",
    "\n",
    "   \n",
    "    def gather_posts(self, url, n=100):\n",
    "\n",
    "        df = pd.DataFrame(columns=self.post_cols)\n",
    "        warnings.simplefilter('ignore')\n",
    "        max_posts = n\n",
    "        self.url = url\n",
    "        self.post_count = 0\n",
    "        empty_count = 0\n",
    "        after = None\n",
    "        print(f'Gathering posts from {self.url}')\n",
    " \n",
    "        while True:\n",
    "\n",
    "            if after == None:\n",
    "                params = {}\n",
    "            else:\n",
    "                params = {'after': after}\n",
    "            rep = requests.get(self.url, params=params, headers=self.header)\n",
    " \n",
    "            if rep.status_code == 200:\n",
    "                pjson = rep.json()\n",
    "                nposts =  len(pjson['data']['children'])  \n",
    "\n",
    "                for i in range(0, nposts):\n",
    "                    self_text = [pjson['data']['children'][i]['data']['selftext']]\n",
    "\n",
    "                    if len(self_text) > 0 and len(self_text[0]) > 0:\n",
    "                        pdict = {\n",
    "                            'subreddit' : [pjson['data']['children'][i]['data']['subreddit']],\n",
    "                            'id' : [pjson['data']['children'][i]['data']['id']],\n",
    "                            'selftext' : [pjson['data']['children'][i]['data']['selftext']],\n",
    "                            'title' : [pjson['data']['children'][i]['data']['title']],\n",
    "                            'author' : [pjson['data']['children'][i]['data']['author']],\n",
    "                            'created' : [pjson['data']['children'][i]['data']['created']],\n",
    "                            'ups' : [pjson['data']['children'][i]['data']['ups']],\n",
    "                            'downs' : [pjson['data']['children'][i]['data']['downs']],\n",
    "                        }\n",
    "                        self.post_count += 1\n",
    "                        if (self.post_count % 500 == 0):\n",
    "                            print(f'Gathered {self.post_count} posts so far')\n",
    "                        df2 = pd.DataFrame(pdict)\n",
    "                        df = df.append(df2, ignore_index=True)\n",
    "                    else:\n",
    "                        empty_count += 1\n",
    "                after = pjson['data']['after']\n",
    "            else:\n",
    "                print(rep.status_code)\n",
    "                break\n",
    "\n",
    "            if self.post_count < max_posts:\n",
    "                time.sleep(3)\n",
    "            else:\n",
    "                print(f'Gathered {self.post_count} posts')\n",
    "                print(f'skipped {empty_count} posts with no selftext')\n",
    "                break\n",
    " \n",
    "        return(df)\n",
    "        \n",
    "        "
   ]
  }
 ],
 "metadata": {
  "kernelspec": {
   "display_name": "Python [conda env:root]",
   "language": "python",
   "name": "conda-root-py"
  },
  "language_info": {
   "codemirror_mode": {
    "name": "ipython",
    "version": 3
   },
   "file_extension": ".py",
   "mimetype": "text/x-python",
   "name": "python",
   "nbconvert_exporter": "python",
   "pygments_lexer": "ipython3",
   "version": "3.6.8"
  }
 },
 "nbformat": 4,
 "nbformat_minor": 2
}
